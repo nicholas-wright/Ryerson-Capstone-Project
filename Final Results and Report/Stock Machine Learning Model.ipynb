{
 "cells": [
  {
   "cell_type": "markdown",
   "metadata": {},
   "source": [
    "### Stock Data Model"
   ]
  },
  {
   "cell_type": "code",
   "execution_count": 153,
   "metadata": {},
   "outputs": [],
   "source": [
    "import pandas as pd\n",
    "import numpy as np\n",
    "import seaborn as sns\n",
    "import matplotlib.pyplot as plt\n",
    "\n",
    "from sklearn.datasets import load_iris\n",
    "from sklearn.feature_extraction.text import CountVectorizer\n",
    "from sklearn.model_selection import train_test_split\n",
    "from sklearn.naive_bayes import GaussianNB\n",
    "from sklearn.naive_bayes import MultinomialNB\n",
    "from sklearn.metrics import confusion_matrix\n",
    "from sklearn.metrics import classification_report, confusion_matrix, accuracy_score"
   ]
  },
  {
   "cell_type": "markdown",
   "metadata": {},
   "source": [
    "#### Load Data without sentiment and split into test and training dataset"
   ]
  },
  {
   "cell_type": "code",
   "execution_count": 4,
   "metadata": {},
   "outputs": [],
   "source": [
    "df = pd.read_csv('Stock Data + Sentiment Final.csv')\n",
    "df_base = pd.read_csv('Stock_Data.csv')"
   ]
  },
  {
   "cell_type": "code",
   "execution_count": 14,
   "metadata": {},
   "outputs": [],
   "source": [
    "df['title_sentiment'] = [1 if score > 0.05 \n",
    "                             else -1 if score < -0.05\n",
    "                             else 0 \n",
    "                             for score in df['title sentiment score']]\n",
    "df['content_sentiment'] = [1 if score > 0.05 \n",
    "                             else -1 if score < -0.05\n",
    "                             else 0 \n",
    "                             for score in df['content sentiment score']]"
   ]
  },
  {
   "cell_type": "code",
   "execution_count": null,
   "metadata": {},
   "outputs": [],
   "source": [
    "df.set_index(['Date', 'Exchange_Name'], inplace = True)\n",
    "df.head()"
   ]
  },
  {
   "cell_type": "markdown",
   "metadata": {},
   "source": [
    "#### Removes dates where stock market wasn't open (i.e weekends, public holidays). Inner join occured, therefore content sentiment score can be indexed."
   ]
  },
  {
   "cell_type": "code",
   "execution_count": 49,
   "metadata": {},
   "outputs": [
    {
     "data": {
      "text/plain": [
       "583"
      ]
     },
     "execution_count": 49,
     "metadata": {},
     "output_type": "execute_result"
    }
   ],
   "source": [
    "df.Date.nunique()"
   ]
  },
  {
   "cell_type": "code",
   "execution_count": 5,
   "metadata": {},
   "outputs": [],
   "source": [
    "df.drop(df[df['content sentiment score'] == 0].index, inplace = True)"
   ]
  },
  {
   "cell_type": "code",
   "execution_count": 51,
   "metadata": {},
   "outputs": [
    {
     "data": {
      "text/plain": [
       "581"
      ]
     },
     "execution_count": 51,
     "metadata": {},
     "output_type": "execute_result"
    }
   ],
   "source": [
    "df.Date.nunique()"
   ]
  },
  {
   "cell_type": "markdown",
   "metadata": {},
   "source": [
    "##### Two values removed"
   ]
  },
  {
   "cell_type": "markdown",
   "metadata": {},
   "source": [
    "### Addition Exploration"
   ]
  },
  {
   "cell_type": "markdown",
   "metadata": {},
   "source": [
    "#### Add binary buy sell condition."
   ]
  },
  {
   "cell_type": "code",
   "execution_count": 12,
   "metadata": {},
   "outputs": [],
   "source": [
    "df['buy/sell'] = np.where(df['Close'] > df['Open'], 1, 0)\n",
    "df_base['buy/sell'] = np.where(df_base['Close'] > df_base['Open'], 1, 0)"
   ]
  },
  {
   "cell_type": "code",
   "execution_count": 15,
   "metadata": {},
   "outputs": [
    {
     "data": {
      "text/html": [
       "<div>\n",
       "<style scoped>\n",
       "    .dataframe tbody tr th:only-of-type {\n",
       "        vertical-align: middle;\n",
       "    }\n",
       "\n",
       "    .dataframe tbody tr th {\n",
       "        vertical-align: top;\n",
       "    }\n",
       "\n",
       "    .dataframe thead th {\n",
       "        text-align: right;\n",
       "    }\n",
       "</style>\n",
       "<table border=\"1\" class=\"dataframe\">\n",
       "  <thead>\n",
       "    <tr style=\"text-align: right;\">\n",
       "      <th></th>\n",
       "      <th>Date</th>\n",
       "      <th>content sentiment score</th>\n",
       "      <th>title sentiment score</th>\n",
       "      <th>Exchange_Name</th>\n",
       "      <th>Adj Close</th>\n",
       "      <th>Close</th>\n",
       "      <th>High</th>\n",
       "      <th>Low</th>\n",
       "      <th>Open</th>\n",
       "      <th>Volume</th>\n",
       "      <th>buy/sell</th>\n",
       "      <th>title_sentiment</th>\n",
       "      <th>content_sentiment</th>\n",
       "    </tr>\n",
       "  </thead>\n",
       "  <tbody>\n",
       "    <tr>\n",
       "      <th>0</th>\n",
       "      <td>2015-01-02</td>\n",
       "      <td>0.07875</td>\n",
       "      <td>-0.01125</td>\n",
       "      <td>Dow Jones</td>\n",
       "      <td>17832.990234</td>\n",
       "      <td>17832.990234</td>\n",
       "      <td>17951.779297</td>\n",
       "      <td>17731.300781</td>\n",
       "      <td>17823.070313</td>\n",
       "      <td>76270000</td>\n",
       "      <td>1</td>\n",
       "      <td>0</td>\n",
       "      <td>1</td>\n",
       "    </tr>\n",
       "    <tr>\n",
       "      <th>1</th>\n",
       "      <td>2015-01-02</td>\n",
       "      <td>0.07875</td>\n",
       "      <td>-0.01125</td>\n",
       "      <td>NYSE</td>\n",
       "      <td>10830.919922</td>\n",
       "      <td>10830.919922</td>\n",
       "      <td>10889.250000</td>\n",
       "      <td>10770.509766</td>\n",
       "      <td>10859.799805</td>\n",
       "      <td>2708700000</td>\n",
       "      <td>0</td>\n",
       "      <td>0</td>\n",
       "      <td>1</td>\n",
       "    </tr>\n",
       "    <tr>\n",
       "      <th>2</th>\n",
       "      <td>2015-01-02</td>\n",
       "      <td>0.07875</td>\n",
       "      <td>-0.01125</td>\n",
       "      <td>TSX/S&amp;P</td>\n",
       "      <td>14753.700195</td>\n",
       "      <td>14753.700195</td>\n",
       "      <td>14756.299805</td>\n",
       "      <td>14631.400391</td>\n",
       "      <td>14637.299805</td>\n",
       "      <td>132965800</td>\n",
       "      <td>1</td>\n",
       "      <td>0</td>\n",
       "      <td>1</td>\n",
       "    </tr>\n",
       "    <tr>\n",
       "      <th>3</th>\n",
       "      <td>2015-01-02</td>\n",
       "      <td>0.07875</td>\n",
       "      <td>-0.01125</td>\n",
       "      <td>NASDAQ</td>\n",
       "      <td>4726.810059</td>\n",
       "      <td>4726.810059</td>\n",
       "      <td>4777.009766</td>\n",
       "      <td>4698.109863</td>\n",
       "      <td>4760.240234</td>\n",
       "      <td>1435150000</td>\n",
       "      <td>0</td>\n",
       "      <td>0</td>\n",
       "      <td>1</td>\n",
       "    </tr>\n",
       "    <tr>\n",
       "      <th>4</th>\n",
       "      <td>2015-01-02</td>\n",
       "      <td>0.07875</td>\n",
       "      <td>-0.01125</td>\n",
       "      <td>S&amp;P</td>\n",
       "      <td>2058.199951</td>\n",
       "      <td>2058.199951</td>\n",
       "      <td>2072.360107</td>\n",
       "      <td>2046.040039</td>\n",
       "      <td>2058.899902</td>\n",
       "      <td>2708700000</td>\n",
       "      <td>0</td>\n",
       "      <td>0</td>\n",
       "      <td>1</td>\n",
       "    </tr>\n",
       "  </tbody>\n",
       "</table>\n",
       "</div>"
      ],
      "text/plain": [
       "         Date  content sentiment score  title sentiment score Exchange_Name  \\\n",
       "0  2015-01-02                  0.07875               -0.01125     Dow Jones   \n",
       "1  2015-01-02                  0.07875               -0.01125          NYSE   \n",
       "2  2015-01-02                  0.07875               -0.01125       TSX/S&P   \n",
       "3  2015-01-02                  0.07875               -0.01125        NASDAQ   \n",
       "4  2015-01-02                  0.07875               -0.01125           S&P   \n",
       "\n",
       "      Adj Close         Close          High           Low          Open  \\\n",
       "0  17832.990234  17832.990234  17951.779297  17731.300781  17823.070313   \n",
       "1  10830.919922  10830.919922  10889.250000  10770.509766  10859.799805   \n",
       "2  14753.700195  14753.700195  14756.299805  14631.400391  14637.299805   \n",
       "3   4726.810059   4726.810059   4777.009766   4698.109863   4760.240234   \n",
       "4   2058.199951   2058.199951   2072.360107   2046.040039   2058.899902   \n",
       "\n",
       "       Volume  buy/sell  title_sentiment  content_sentiment  \n",
       "0    76270000         1                0                  1  \n",
       "1  2708700000         0                0                  1  \n",
       "2   132965800         1                0                  1  \n",
       "3  1435150000         0                0                  1  \n",
       "4  2708700000         0                0                  1  "
      ]
     },
     "execution_count": 15,
     "metadata": {},
     "output_type": "execute_result"
    }
   ],
   "source": [
    "df.head()"
   ]
  },
  {
   "cell_type": "code",
   "execution_count": 16,
   "metadata": {},
   "outputs": [
    {
     "data": {
      "text/html": [
       "<div>\n",
       "<style scoped>\n",
       "    .dataframe tbody tr th:only-of-type {\n",
       "        vertical-align: middle;\n",
       "    }\n",
       "\n",
       "    .dataframe tbody tr th {\n",
       "        vertical-align: top;\n",
       "    }\n",
       "\n",
       "    .dataframe thead th {\n",
       "        text-align: right;\n",
       "    }\n",
       "</style>\n",
       "<table border=\"1\" class=\"dataframe\">\n",
       "  <thead>\n",
       "    <tr style=\"text-align: right;\">\n",
       "      <th></th>\n",
       "      <th>Date</th>\n",
       "      <th>Open</th>\n",
       "      <th>High</th>\n",
       "      <th>Low</th>\n",
       "      <th>Close</th>\n",
       "      <th>Adj Close</th>\n",
       "      <th>Volume</th>\n",
       "      <th>Exchange_Name</th>\n",
       "      <th>buy/sell</th>\n",
       "    </tr>\n",
       "  </thead>\n",
       "  <tbody>\n",
       "    <tr>\n",
       "      <th>0</th>\n",
       "      <td>2015-01-02</td>\n",
       "      <td>17823.070313</td>\n",
       "      <td>17951.779297</td>\n",
       "      <td>17731.300781</td>\n",
       "      <td>17832.990234</td>\n",
       "      <td>17832.990234</td>\n",
       "      <td>76270000</td>\n",
       "      <td>Dow Jones</td>\n",
       "      <td>1</td>\n",
       "    </tr>\n",
       "    <tr>\n",
       "      <th>1</th>\n",
       "      <td>2015-01-02</td>\n",
       "      <td>10859.799805</td>\n",
       "      <td>10889.250000</td>\n",
       "      <td>10770.509766</td>\n",
       "      <td>10830.919922</td>\n",
       "      <td>10830.919922</td>\n",
       "      <td>2708700000</td>\n",
       "      <td>NYSE</td>\n",
       "      <td>0</td>\n",
       "    </tr>\n",
       "    <tr>\n",
       "      <th>2</th>\n",
       "      <td>2015-01-02</td>\n",
       "      <td>14637.299805</td>\n",
       "      <td>14756.299805</td>\n",
       "      <td>14631.400391</td>\n",
       "      <td>14753.700195</td>\n",
       "      <td>14753.700195</td>\n",
       "      <td>132965800</td>\n",
       "      <td>TSX/S&amp;P</td>\n",
       "      <td>1</td>\n",
       "    </tr>\n",
       "    <tr>\n",
       "      <th>3</th>\n",
       "      <td>2015-01-02</td>\n",
       "      <td>4760.240234</td>\n",
       "      <td>4777.009766</td>\n",
       "      <td>4698.109863</td>\n",
       "      <td>4726.810059</td>\n",
       "      <td>4726.810059</td>\n",
       "      <td>1435150000</td>\n",
       "      <td>NASDAQ</td>\n",
       "      <td>0</td>\n",
       "    </tr>\n",
       "    <tr>\n",
       "      <th>4</th>\n",
       "      <td>2015-01-02</td>\n",
       "      <td>2058.899902</td>\n",
       "      <td>2072.360107</td>\n",
       "      <td>2046.040039</td>\n",
       "      <td>2058.199951</td>\n",
       "      <td>2058.199951</td>\n",
       "      <td>2708700000</td>\n",
       "      <td>S&amp;P</td>\n",
       "      <td>0</td>\n",
       "    </tr>\n",
       "  </tbody>\n",
       "</table>\n",
       "</div>"
      ],
      "text/plain": [
       "         Date          Open          High           Low         Close  \\\n",
       "0  2015-01-02  17823.070313  17951.779297  17731.300781  17832.990234   \n",
       "1  2015-01-02  10859.799805  10889.250000  10770.509766  10830.919922   \n",
       "2  2015-01-02  14637.299805  14756.299805  14631.400391  14753.700195   \n",
       "3  2015-01-02   4760.240234   4777.009766   4698.109863   4726.810059   \n",
       "4  2015-01-02   2058.899902   2072.360107   2046.040039   2058.199951   \n",
       "\n",
       "      Adj Close      Volume Exchange_Name  buy/sell  \n",
       "0  17832.990234    76270000     Dow Jones         1  \n",
       "1  10830.919922  2708700000          NYSE         0  \n",
       "2  14753.700195   132965800       TSX/S&P         1  \n",
       "3   4726.810059  1435150000        NASDAQ         0  \n",
       "4   2058.199951  2708700000           S&P         0  "
      ]
     },
     "execution_count": 16,
     "metadata": {},
     "output_type": "execute_result"
    }
   ],
   "source": [
    "df_base.head()"
   ]
  },
  {
   "cell_type": "code",
   "execution_count": 18,
   "metadata": {},
   "outputs": [],
   "source": [
    "stockdf = df_base"
   ]
  },
  {
   "cell_type": "code",
   "execution_count": 27,
   "metadata": {
    "scrolled": true
   },
   "outputs": [],
   "source": [
    "stockdf.set_index(['Date'], inplace = True)"
   ]
  },
  {
   "cell_type": "markdown",
   "metadata": {},
   "source": [
    "#### Encode Stock Markets"
   ]
  },
  {
   "cell_type": "code",
   "execution_count": 19,
   "metadata": {},
   "outputs": [],
   "source": [
    "stockdf.replace({'Dow Jones': 1, 'NYSE' : 2 , 'TSX/S&P' : 3, 'NASDAQ' : 4 , 'S&P' : 5}, inplace = True)"
   ]
  },
  {
   "cell_type": "code",
   "execution_count": 20,
   "metadata": {},
   "outputs": [],
   "source": [
    "df2 = df\n",
    "df2.replace({'Dow Jones': 1, 'NYSE' : 2 , 'TSX/S&P' : 3, 'NASDAQ' : 4 , 'S&P' : 5}, inplace = True)"
   ]
  },
  {
   "cell_type": "code",
   "execution_count": 28,
   "metadata": {},
   "outputs": [],
   "source": [
    "df2.set_index(['Date'], inplace = True)"
   ]
  },
  {
   "cell_type": "code",
   "execution_count": 29,
   "metadata": {},
   "outputs": [],
   "source": [
    "stock1_train, stock1_test, sent_stock1_train, sent_stock1_test = train_test_split(stockdf,\n",
    "                                                                              stockdf['buy/sell'],\n",
    "                                                                             test_size = 0.3, random_state = 0)"
   ]
  },
  {
   "cell_type": "code",
   "execution_count": 30,
   "metadata": {},
   "outputs": [],
   "source": [
    "stock_train, stock_test, sent_stock_train, sent_stock_test = train_test_split(df2,\n",
    "                                                                              df2['buy/sell'],\n",
    "                                                                             test_size = 0.3, random_state = 0)"
   ]
  },
  {
   "cell_type": "markdown",
   "metadata": {},
   "source": [
    "#### Run model without sentiment scores or weighting"
   ]
  },
  {
   "cell_type": "code",
   "execution_count": 25,
   "metadata": {},
   "outputs": [],
   "source": [
    "from sklearn.linear_model import LogisticRegression"
   ]
  },
  {
   "cell_type": "code",
   "execution_count": 32,
   "metadata": {},
   "outputs": [],
   "source": [
    "classifier = LogisticRegression()\n",
    "classifier.fit(stock1_train, sent_stock1_train)\n",
    "sent_pred = classifier.predict(stock1_test)"
   ]
  },
  {
   "cell_type": "code",
   "execution_count": 33,
   "metadata": {
    "scrolled": true
   },
   "outputs": [
    {
     "name": "stdout",
     "output_type": "stream",
     "text": [
      "[[  0 515]\n",
      " [  0 617]]\n",
      "              precision    recall  f1-score   support\n",
      "\n",
      "           0       0.00      0.00      0.00       515\n",
      "           1       0.55      1.00      0.71       617\n",
      "\n",
      "    accuracy                           0.55      1132\n",
      "   macro avg       0.27      0.50      0.35      1132\n",
      "weighted avg       0.30      0.55      0.38      1132\n",
      "\n",
      "0.5450530035335689\n"
     ]
    },
    {
     "name": "stderr",
     "output_type": "stream",
     "text": [
      "C:\\Users\\wrigh\\Anaconda3\\lib\\site-packages\\sklearn\\metrics\\_classification.py:1272: UndefinedMetricWarning: Precision and F-score are ill-defined and being set to 0.0 in labels with no predicted samples. Use `zero_division` parameter to control this behavior.\n",
      "  _warn_prf(average, modifier, msg_start, len(result))\n"
     ]
    }
   ],
   "source": [
    "print(confusion_matrix(sent_stock1_test,sent_pred))\n",
    "print(classification_report(sent_stock1_test,sent_pred))\n",
    "print(accuracy_score(sent_stock1_test, sent_pred))"
   ]
  },
  {
   "cell_type": "code",
   "execution_count": 54,
   "metadata": {},
   "outputs": [],
   "source": [
    "classifier = KNeighborsClassifier(n_neighbors = 5, weights = 'distance')\n",
    "classifier.fit(stock1_train, sent_stock1_train)\n",
    "sent_pred = classifier.predict(stock1_test)"
   ]
  },
  {
   "cell_type": "code",
   "execution_count": 55,
   "metadata": {},
   "outputs": [
    {
     "name": "stdout",
     "output_type": "stream",
     "text": [
      "[[289 226]\n",
      " [219 398]]\n",
      "              precision    recall  f1-score   support\n",
      "\n",
      "           0       0.57      0.56      0.57       515\n",
      "           1       0.64      0.65      0.64       617\n",
      "\n",
      "    accuracy                           0.61      1132\n",
      "   macro avg       0.60      0.60      0.60      1132\n",
      "weighted avg       0.61      0.61      0.61      1132\n",
      "\n",
      "0.6068904593639576\n"
     ]
    }
   ],
   "source": [
    "print(confusion_matrix(sent_stock1_test,sent_pred))\n",
    "print(classification_report(sent_stock1_test,sent_pred))\n",
    "print(accuracy_score(sent_stock1_test, sent_pred))"
   ]
  },
  {
   "cell_type": "markdown",
   "metadata": {},
   "source": [
    "##### Overfitting, not a large sample size. No Classification of sell."
   ]
  },
  {
   "cell_type": "markdown",
   "metadata": {},
   "source": [
    "### Run model with sentiment scores (both summed and averaged) - Log Reg and KNN"
   ]
  },
  {
   "cell_type": "markdown",
   "metadata": {},
   "source": [
    "#### Average"
   ]
  },
  {
   "cell_type": "code",
   "execution_count": 34,
   "metadata": {},
   "outputs": [],
   "source": [
    "classifier = LogisticRegression()\n",
    "classifier.fit(stock_train, sent_stock_train)\n",
    "sent_pred = classifier.predict(stock_test)"
   ]
  },
  {
   "cell_type": "code",
   "execution_count": 35,
   "metadata": {},
   "outputs": [
    {
     "name": "stdout",
     "output_type": "stream",
     "text": [
      "[[  0 407]\n",
      " [  0 453]]\n",
      "              precision    recall  f1-score   support\n",
      "\n",
      "           0       0.00      0.00      0.00       407\n",
      "           1       0.53      1.00      0.69       453\n",
      "\n",
      "    accuracy                           0.53       860\n",
      "   macro avg       0.26      0.50      0.35       860\n",
      "weighted avg       0.28      0.53      0.36       860\n",
      "\n",
      "0.5267441860465116\n"
     ]
    },
    {
     "name": "stderr",
     "output_type": "stream",
     "text": [
      "C:\\Users\\wrigh\\Anaconda3\\lib\\site-packages\\sklearn\\metrics\\_classification.py:1272: UndefinedMetricWarning: Precision and F-score are ill-defined and being set to 0.0 in labels with no predicted samples. Use `zero_division` parameter to control this behavior.\n",
      "  _warn_prf(average, modifier, msg_start, len(result))\n"
     ]
    }
   ],
   "source": [
    "print(confusion_matrix(sent_stock_test,sent_pred))\n",
    "print(classification_report(sent_stock_test,sent_pred))\n",
    "print(accuracy_score(sent_stock_test, sent_pred))"
   ]
  },
  {
   "cell_type": "code",
   "execution_count": 38,
   "metadata": {},
   "outputs": [],
   "source": [
    "from sklearn.neighbors import KNeighborsClassifier"
   ]
  },
  {
   "cell_type": "code",
   "execution_count": 57,
   "metadata": {},
   "outputs": [],
   "source": [
    "classifier = KNeighborsClassifier(n_neighbors = 5, weights = 'distance')\n",
    "classifier.fit(stock_train, sent_stock_train)\n",
    "sent_pred = classifier.predict(stock_test)"
   ]
  },
  {
   "cell_type": "code",
   "execution_count": 58,
   "metadata": {},
   "outputs": [
    {
     "name": "stdout",
     "output_type": "stream",
     "text": [
      "[[255 152]\n",
      " [174 279]]\n",
      "              precision    recall  f1-score   support\n",
      "\n",
      "           0       0.59      0.63      0.61       407\n",
      "           1       0.65      0.62      0.63       453\n",
      "\n",
      "    accuracy                           0.62       860\n",
      "   macro avg       0.62      0.62      0.62       860\n",
      "weighted avg       0.62      0.62      0.62       860\n",
      "\n",
      "0.6209302325581395\n"
     ]
    }
   ],
   "source": [
    "print(confusion_matrix(sent_stock_test,sent_pred))\n",
    "print(classification_report(sent_stock_test,sent_pred))\n",
    "print(accuracy_score(sent_stock_test, sent_pred))"
   ]
  },
  {
   "cell_type": "markdown",
   "metadata": {},
   "source": [
    "#### Summed"
   ]
  },
  {
   "cell_type": "code",
   "execution_count": 126,
   "metadata": {},
   "outputs": [],
   "source": [
    "df_sum = pd.read_csv('Stock Data + Sentiment.csv')\n",
    "df_sum = pd.read_csv('Stock Data + Sentiment.csv')\n",
    "df_sum.drop(['Number of Records', 'date', 'Adj Close'], axis = 1, inplace = True)\n",
    "df_sum.set_index(['Date'], inplace = True)\n",
    "df_sum['title_sentiment'] = [1 if score > 0.05 \n",
    "                             else -1 if score < -0.05\n",
    "                             else 0 \n",
    "                             for score in df_sum['title sentiment score']]\n",
    "df_sum['content_sentiment'] = [1 if score > 0.05 \n",
    "                             else -1 if score < -0.05\n",
    "                             else 0 \n",
    "                             for score in df_sum['content sentiment score']]\n",
    "df_sum['buy/sell'] = np.where(df_sum['Close'] > df_sum['Open'], 1, 0)\n",
    "df_sum.replace({'Dow Jones': 1, 'NYSE' : 2 , 'TSX/S&P' : 3, 'NASDAQ' : 4 , 'S&P' : 5}, inplace = True)\n",
    "df_sum.dropna(inplace = True)"
   ]
  },
  {
   "cell_type": "code",
   "execution_count": 127,
   "metadata": {},
   "outputs": [],
   "source": [
    "df_sum.drop(df_sum[df_sum['content sentiment score'] == 0].index, inplace = True)"
   ]
  },
  {
   "cell_type": "code",
   "execution_count": 128,
   "metadata": {},
   "outputs": [
    {
     "data": {
      "text/html": [
       "<div>\n",
       "<style scoped>\n",
       "    .dataframe tbody tr th:only-of-type {\n",
       "        vertical-align: middle;\n",
       "    }\n",
       "\n",
       "    .dataframe tbody tr th {\n",
       "        vertical-align: top;\n",
       "    }\n",
       "\n",
       "    .dataframe thead th {\n",
       "        text-align: right;\n",
       "    }\n",
       "</style>\n",
       "<table border=\"1\" class=\"dataframe\">\n",
       "  <thead>\n",
       "    <tr style=\"text-align: right;\">\n",
       "      <th></th>\n",
       "      <th>Close</th>\n",
       "      <th>Exchange_Name</th>\n",
       "      <th>High</th>\n",
       "      <th>Low</th>\n",
       "      <th>Open</th>\n",
       "      <th>Volume</th>\n",
       "      <th>content sentiment score</th>\n",
       "      <th>title sentiment score</th>\n",
       "      <th>title_sentiment</th>\n",
       "      <th>content_sentiment</th>\n",
       "      <th>buy/sell</th>\n",
       "    </tr>\n",
       "    <tr>\n",
       "      <th>Date</th>\n",
       "      <th></th>\n",
       "      <th></th>\n",
       "      <th></th>\n",
       "      <th></th>\n",
       "      <th></th>\n",
       "      <th></th>\n",
       "      <th></th>\n",
       "      <th></th>\n",
       "      <th></th>\n",
       "      <th></th>\n",
       "      <th></th>\n",
       "    </tr>\n",
       "  </thead>\n",
       "  <tbody>\n",
       "    <tr>\n",
       "      <th>2015-01-02</th>\n",
       "      <td>17832.990234</td>\n",
       "      <td>1</td>\n",
       "      <td>17951.779297</td>\n",
       "      <td>17731.300781</td>\n",
       "      <td>17823.070313</td>\n",
       "      <td>76270000</td>\n",
       "      <td>0.945</td>\n",
       "      <td>-0.135</td>\n",
       "      <td>-1</td>\n",
       "      <td>1</td>\n",
       "      <td>1</td>\n",
       "    </tr>\n",
       "    <tr>\n",
       "      <th>2015-01-02</th>\n",
       "      <td>10830.919922</td>\n",
       "      <td>2</td>\n",
       "      <td>10889.250000</td>\n",
       "      <td>10770.509766</td>\n",
       "      <td>10859.799805</td>\n",
       "      <td>2708700000</td>\n",
       "      <td>0.945</td>\n",
       "      <td>-0.135</td>\n",
       "      <td>-1</td>\n",
       "      <td>1</td>\n",
       "      <td>0</td>\n",
       "    </tr>\n",
       "    <tr>\n",
       "      <th>2015-01-02</th>\n",
       "      <td>14753.700195</td>\n",
       "      <td>3</td>\n",
       "      <td>14756.299805</td>\n",
       "      <td>14631.400391</td>\n",
       "      <td>14637.299805</td>\n",
       "      <td>132965800</td>\n",
       "      <td>0.945</td>\n",
       "      <td>-0.135</td>\n",
       "      <td>-1</td>\n",
       "      <td>1</td>\n",
       "      <td>1</td>\n",
       "    </tr>\n",
       "    <tr>\n",
       "      <th>2015-01-02</th>\n",
       "      <td>4726.810059</td>\n",
       "      <td>4</td>\n",
       "      <td>4777.009766</td>\n",
       "      <td>4698.109863</td>\n",
       "      <td>4760.240234</td>\n",
       "      <td>1435150000</td>\n",
       "      <td>0.945</td>\n",
       "      <td>-0.135</td>\n",
       "      <td>-1</td>\n",
       "      <td>1</td>\n",
       "      <td>0</td>\n",
       "    </tr>\n",
       "    <tr>\n",
       "      <th>2015-01-02</th>\n",
       "      <td>2058.199951</td>\n",
       "      <td>5</td>\n",
       "      <td>2072.360107</td>\n",
       "      <td>2046.040039</td>\n",
       "      <td>2058.899902</td>\n",
       "      <td>2708700000</td>\n",
       "      <td>0.945</td>\n",
       "      <td>-0.135</td>\n",
       "      <td>-1</td>\n",
       "      <td>1</td>\n",
       "      <td>0</td>\n",
       "    </tr>\n",
       "    <tr>\n",
       "      <th>2015-01-06</th>\n",
       "      <td>4592.740234</td>\n",
       "      <td>4</td>\n",
       "      <td>4667.330078</td>\n",
       "      <td>4567.589844</td>\n",
       "      <td>4666.850098</td>\n",
       "      <td>2167320000</td>\n",
       "      <td>0.205</td>\n",
       "      <td>-0.067</td>\n",
       "      <td>-1</td>\n",
       "      <td>1</td>\n",
       "      <td>0</td>\n",
       "    </tr>\n",
       "    <tr>\n",
       "      <th>2015-01-06</th>\n",
       "      <td>10514.870117</td>\n",
       "      <td>2</td>\n",
       "      <td>10647.209961</td>\n",
       "      <td>10457.889648</td>\n",
       "      <td>10610.780273</td>\n",
       "      <td>4460110000</td>\n",
       "      <td>0.205</td>\n",
       "      <td>-0.067</td>\n",
       "      <td>-1</td>\n",
       "      <td>1</td>\n",
       "      <td>0</td>\n",
       "    </tr>\n",
       "    <tr>\n",
       "      <th>2015-01-06</th>\n",
       "      <td>2002.609985</td>\n",
       "      <td>5</td>\n",
       "      <td>2030.250000</td>\n",
       "      <td>1992.439941</td>\n",
       "      <td>2022.150024</td>\n",
       "      <td>4460110000</td>\n",
       "      <td>0.205</td>\n",
       "      <td>-0.067</td>\n",
       "      <td>-1</td>\n",
       "      <td>1</td>\n",
       "      <td>0</td>\n",
       "    </tr>\n",
       "    <tr>\n",
       "      <th>2015-01-06</th>\n",
       "      <td>14246.799805</td>\n",
       "      <td>3</td>\n",
       "      <td>14370.400391</td>\n",
       "      <td>14162.000000</td>\n",
       "      <td>14368.099609</td>\n",
       "      <td>273374500</td>\n",
       "      <td>0.205</td>\n",
       "      <td>-0.067</td>\n",
       "      <td>-1</td>\n",
       "      <td>1</td>\n",
       "      <td>0</td>\n",
       "    </tr>\n",
       "    <tr>\n",
       "      <th>2015-01-06</th>\n",
       "      <td>17371.640625</td>\n",
       "      <td>1</td>\n",
       "      <td>17581.050781</td>\n",
       "      <td>17262.369141</td>\n",
       "      <td>17504.179688</td>\n",
       "      <td>101870000</td>\n",
       "      <td>0.205</td>\n",
       "      <td>-0.067</td>\n",
       "      <td>-1</td>\n",
       "      <td>1</td>\n",
       "      <td>0</td>\n",
       "    </tr>\n",
       "    <tr>\n",
       "      <th>2015-01-07</th>\n",
       "      <td>2025.900024</td>\n",
       "      <td>5</td>\n",
       "      <td>2029.609985</td>\n",
       "      <td>2005.550049</td>\n",
       "      <td>2005.550049</td>\n",
       "      <td>3805480000</td>\n",
       "      <td>0.044</td>\n",
       "      <td>0.000</td>\n",
       "      <td>0</td>\n",
       "      <td>0</td>\n",
       "      <td>1</td>\n",
       "    </tr>\n",
       "    <tr>\n",
       "      <th>2015-01-07</th>\n",
       "      <td>14285.000000</td>\n",
       "      <td>3</td>\n",
       "      <td>14427.400391</td>\n",
       "      <td>14265.700195</td>\n",
       "      <td>14324.400391</td>\n",
       "      <td>234522600</td>\n",
       "      <td>0.044</td>\n",
       "      <td>0.000</td>\n",
       "      <td>0</td>\n",
       "      <td>0</td>\n",
       "      <td>0</td>\n",
       "    </tr>\n",
       "    <tr>\n",
       "      <th>2015-01-07</th>\n",
       "      <td>10627.129883</td>\n",
       "      <td>2</td>\n",
       "      <td>10638.740234</td>\n",
       "      <td>10514.480469</td>\n",
       "      <td>10514.480469</td>\n",
       "      <td>3805480000</td>\n",
       "      <td>0.044</td>\n",
       "      <td>0.000</td>\n",
       "      <td>0</td>\n",
       "      <td>0</td>\n",
       "      <td>1</td>\n",
       "    </tr>\n",
       "    <tr>\n",
       "      <th>2015-01-07</th>\n",
       "      <td>17584.519531</td>\n",
       "      <td>1</td>\n",
       "      <td>17597.080078</td>\n",
       "      <td>17374.779297</td>\n",
       "      <td>17374.779297</td>\n",
       "      <td>91030000</td>\n",
       "      <td>0.044</td>\n",
       "      <td>0.000</td>\n",
       "      <td>0</td>\n",
       "      <td>0</td>\n",
       "      <td>1</td>\n",
       "    </tr>\n",
       "    <tr>\n",
       "      <th>2015-01-07</th>\n",
       "      <td>4650.470215</td>\n",
       "      <td>4</td>\n",
       "      <td>4652.720215</td>\n",
       "      <td>4613.899902</td>\n",
       "      <td>4626.839844</td>\n",
       "      <td>1957950000</td>\n",
       "      <td>0.044</td>\n",
       "      <td>0.000</td>\n",
       "      <td>0</td>\n",
       "      <td>0</td>\n",
       "      <td>1</td>\n",
       "    </tr>\n",
       "  </tbody>\n",
       "</table>\n",
       "</div>"
      ],
      "text/plain": [
       "                   Close  Exchange_Name          High           Low  \\\n",
       "Date                                                                  \n",
       "2015-01-02  17832.990234              1  17951.779297  17731.300781   \n",
       "2015-01-02  10830.919922              2  10889.250000  10770.509766   \n",
       "2015-01-02  14753.700195              3  14756.299805  14631.400391   \n",
       "2015-01-02   4726.810059              4   4777.009766   4698.109863   \n",
       "2015-01-02   2058.199951              5   2072.360107   2046.040039   \n",
       "2015-01-06   4592.740234              4   4667.330078   4567.589844   \n",
       "2015-01-06  10514.870117              2  10647.209961  10457.889648   \n",
       "2015-01-06   2002.609985              5   2030.250000   1992.439941   \n",
       "2015-01-06  14246.799805              3  14370.400391  14162.000000   \n",
       "2015-01-06  17371.640625              1  17581.050781  17262.369141   \n",
       "2015-01-07   2025.900024              5   2029.609985   2005.550049   \n",
       "2015-01-07  14285.000000              3  14427.400391  14265.700195   \n",
       "2015-01-07  10627.129883              2  10638.740234  10514.480469   \n",
       "2015-01-07  17584.519531              1  17597.080078  17374.779297   \n",
       "2015-01-07   4650.470215              4   4652.720215   4613.899902   \n",
       "\n",
       "                    Open      Volume  content sentiment score  \\\n",
       "Date                                                            \n",
       "2015-01-02  17823.070313    76270000                    0.945   \n",
       "2015-01-02  10859.799805  2708700000                    0.945   \n",
       "2015-01-02  14637.299805   132965800                    0.945   \n",
       "2015-01-02   4760.240234  1435150000                    0.945   \n",
       "2015-01-02   2058.899902  2708700000                    0.945   \n",
       "2015-01-06   4666.850098  2167320000                    0.205   \n",
       "2015-01-06  10610.780273  4460110000                    0.205   \n",
       "2015-01-06   2022.150024  4460110000                    0.205   \n",
       "2015-01-06  14368.099609   273374500                    0.205   \n",
       "2015-01-06  17504.179688   101870000                    0.205   \n",
       "2015-01-07   2005.550049  3805480000                    0.044   \n",
       "2015-01-07  14324.400391   234522600                    0.044   \n",
       "2015-01-07  10514.480469  3805480000                    0.044   \n",
       "2015-01-07  17374.779297    91030000                    0.044   \n",
       "2015-01-07   4626.839844  1957950000                    0.044   \n",
       "\n",
       "            title sentiment score  title_sentiment  content_sentiment  \\\n",
       "Date                                                                    \n",
       "2015-01-02                 -0.135               -1                  1   \n",
       "2015-01-02                 -0.135               -1                  1   \n",
       "2015-01-02                 -0.135               -1                  1   \n",
       "2015-01-02                 -0.135               -1                  1   \n",
       "2015-01-02                 -0.135               -1                  1   \n",
       "2015-01-06                 -0.067               -1                  1   \n",
       "2015-01-06                 -0.067               -1                  1   \n",
       "2015-01-06                 -0.067               -1                  1   \n",
       "2015-01-06                 -0.067               -1                  1   \n",
       "2015-01-06                 -0.067               -1                  1   \n",
       "2015-01-07                  0.000                0                  0   \n",
       "2015-01-07                  0.000                0                  0   \n",
       "2015-01-07                  0.000                0                  0   \n",
       "2015-01-07                  0.000                0                  0   \n",
       "2015-01-07                  0.000                0                  0   \n",
       "\n",
       "            buy/sell  \n",
       "Date                  \n",
       "2015-01-02         1  \n",
       "2015-01-02         0  \n",
       "2015-01-02         1  \n",
       "2015-01-02         0  \n",
       "2015-01-02         0  \n",
       "2015-01-06         0  \n",
       "2015-01-06         0  \n",
       "2015-01-06         0  \n",
       "2015-01-06         0  \n",
       "2015-01-06         0  \n",
       "2015-01-07         1  \n",
       "2015-01-07         0  \n",
       "2015-01-07         1  \n",
       "2015-01-07         1  \n",
       "2015-01-07         1  "
      ]
     },
     "execution_count": 128,
     "metadata": {},
     "output_type": "execute_result"
    }
   ],
   "source": [
    "df_sum.head(15)"
   ]
  },
  {
   "cell_type": "code",
   "execution_count": 129,
   "metadata": {},
   "outputs": [],
   "source": [
    "df_sum.dtypes\n",
    "df_y = df_sum['buy/sell']"
   ]
  },
  {
   "cell_type": "code",
   "execution_count": 132,
   "metadata": {},
   "outputs": [],
   "source": [
    "df_sum.drop('buy/sell', axis = 1, inplace = True)"
   ]
  },
  {
   "cell_type": "code",
   "execution_count": 133,
   "metadata": {},
   "outputs": [],
   "source": [
    "xsum_train, xsum_test, ysum_train, ysum_test = train_test_split(df_sum,df_y,\n",
    "                                                                test_size = 0.3, random_state = 0)"
   ]
  },
  {
   "cell_type": "code",
   "execution_count": 137,
   "metadata": {},
   "outputs": [],
   "source": [
    "classifier = LogisticRegression()\n",
    "classifier.fit(xsum_train, ysum_train)\n",
    "ysum_pred = classifier.predict(xsum_test)"
   ]
  },
  {
   "cell_type": "code",
   "execution_count": 138,
   "metadata": {},
   "outputs": [
    {
     "name": "stdout",
     "output_type": "stream",
     "text": [
      "[[  0 405]\n",
      " [  0 452]]\n",
      "              precision    recall  f1-score   support\n",
      "\n",
      "           0       0.00      0.00      0.00       405\n",
      "           1       0.53      1.00      0.69       452\n",
      "\n",
      "    accuracy                           0.53       857\n",
      "   macro avg       0.26      0.50      0.35       857\n",
      "weighted avg       0.28      0.53      0.36       857\n",
      "\n",
      "0.5274212368728122\n"
     ]
    },
    {
     "name": "stderr",
     "output_type": "stream",
     "text": [
      "C:\\Users\\wrigh\\Anaconda3\\lib\\site-packages\\sklearn\\metrics\\_classification.py:1272: UndefinedMetricWarning: Precision and F-score are ill-defined and being set to 0.0 in labels with no predicted samples. Use `zero_division` parameter to control this behavior.\n",
      "  _warn_prf(average, modifier, msg_start, len(result))\n"
     ]
    }
   ],
   "source": [
    "print(confusion_matrix(ysum_test, ysum_pred))\n",
    "print(classification_report(ysum_test,ysum_pred))\n",
    "print(accuracy_score(ysum_test, ysum_pred))"
   ]
  },
  {
   "cell_type": "code",
   "execution_count": 156,
   "metadata": {},
   "outputs": [],
   "source": [
    "classifier = KNeighborsClassifier(n_neighbors = 5, weights= 'distance')\n",
    "classifier.fit(xsum_train, ysum_train)\n",
    "ysum_pred = classifier.predict(xsum_test)"
   ]
  },
  {
   "cell_type": "code",
   "execution_count": 158,
   "metadata": {},
   "outputs": [
    {
     "name": "stdout",
     "output_type": "stream",
     "text": [
      "[[185 220]\n",
      " [176 276]]\n",
      "              precision    recall  f1-score   support\n",
      "\n",
      "           0       0.51      0.46      0.48       405\n",
      "           1       0.56      0.61      0.58       452\n",
      "\n",
      "    accuracy                           0.54       857\n",
      "   macro avg       0.53      0.53      0.53       857\n",
      "weighted avg       0.54      0.54      0.54       857\n",
      "\n",
      "0.5379229871645275\n"
     ]
    }
   ],
   "source": [
    "print(confusion_matrix(ysum_test, ysum_pred))\n",
    "print(classification_report(ysum_test,ysum_pred))\n",
    "print(accuracy_score(ysum_test, ysum_pred))"
   ]
  },
  {
   "cell_type": "markdown",
   "metadata": {},
   "source": [
    "#### Scale Data"
   ]
  },
  {
   "cell_type": "code",
   "execution_count": 121,
   "metadata": {},
   "outputs": [],
   "source": [
    "from sklearn.preprocessing import StandardScaler"
   ]
  },
  {
   "cell_type": "code",
   "execution_count": null,
   "metadata": {},
   "outputs": [],
   "source": [
    "df[df.columns] = scaler.fit_transform(df[df.columns])"
   ]
  },
  {
   "cell_type": "code",
   "execution_count": 139,
   "metadata": {},
   "outputs": [
    {
     "data": {
      "text/html": [
       "<div>\n",
       "<style scoped>\n",
       "    .dataframe tbody tr th:only-of-type {\n",
       "        vertical-align: middle;\n",
       "    }\n",
       "\n",
       "    .dataframe tbody tr th {\n",
       "        vertical-align: top;\n",
       "    }\n",
       "\n",
       "    .dataframe thead th {\n",
       "        text-align: right;\n",
       "    }\n",
       "</style>\n",
       "<table border=\"1\" class=\"dataframe\">\n",
       "  <thead>\n",
       "    <tr style=\"text-align: right;\">\n",
       "      <th></th>\n",
       "      <th>0</th>\n",
       "      <th>1</th>\n",
       "      <th>2</th>\n",
       "      <th>3</th>\n",
       "      <th>4</th>\n",
       "      <th>5</th>\n",
       "      <th>6</th>\n",
       "      <th>7</th>\n",
       "      <th>8</th>\n",
       "      <th>9</th>\n",
       "    </tr>\n",
       "  </thead>\n",
       "  <tbody>\n",
       "    <tr>\n",
       "      <th>0</th>\n",
       "      <td>1.265062</td>\n",
       "      <td>-1.414214</td>\n",
       "      <td>1.273253</td>\n",
       "      <td>1.261588</td>\n",
       "      <td>1.263904</td>\n",
       "      <td>-1.127110</td>\n",
       "      <td>-1.257987</td>\n",
       "      <td>-0.958717</td>\n",
       "      <td>-2.429782</td>\n",
       "      <td>0.141875</td>\n",
       "    </tr>\n",
       "    <tr>\n",
       "      <th>1</th>\n",
       "      <td>0.101252</td>\n",
       "      <td>-0.707107</td>\n",
       "      <td>0.103714</td>\n",
       "      <td>0.099740</td>\n",
       "      <td>0.106377</td>\n",
       "      <td>0.467639</td>\n",
       "      <td>-1.257987</td>\n",
       "      <td>-0.958717</td>\n",
       "      <td>-2.429782</td>\n",
       "      <td>0.141875</td>\n",
       "    </tr>\n",
       "    <tr>\n",
       "      <th>2</th>\n",
       "      <td>0.753255</td>\n",
       "      <td>0.000000</td>\n",
       "      <td>0.744089</td>\n",
       "      <td>0.744174</td>\n",
       "      <td>0.734323</td>\n",
       "      <td>-1.092763</td>\n",
       "      <td>-1.257987</td>\n",
       "      <td>-0.958717</td>\n",
       "      <td>-2.429782</td>\n",
       "      <td>0.141875</td>\n",
       "    </tr>\n",
       "    <tr>\n",
       "      <th>3</th>\n",
       "      <td>-0.913308</td>\n",
       "      <td>0.707107</td>\n",
       "      <td>-0.908458</td>\n",
       "      <td>-0.913823</td>\n",
       "      <td>-0.907573</td>\n",
       "      <td>-0.303888</td>\n",
       "      <td>-1.257987</td>\n",
       "      <td>-0.958717</td>\n",
       "      <td>-2.429782</td>\n",
       "      <td>0.141875</td>\n",
       "    </tr>\n",
       "    <tr>\n",
       "      <th>4</th>\n",
       "      <td>-1.356856</td>\n",
       "      <td>1.414214</td>\n",
       "      <td>-1.356342</td>\n",
       "      <td>-1.356488</td>\n",
       "      <td>-1.356626</td>\n",
       "      <td>0.467639</td>\n",
       "      <td>-1.257987</td>\n",
       "      <td>-0.958717</td>\n",
       "      <td>-2.429782</td>\n",
       "      <td>0.141875</td>\n",
       "    </tr>\n",
       "  </tbody>\n",
       "</table>\n",
       "</div>"
      ],
      "text/plain": [
       "          0         1         2         3         4         5         6  \\\n",
       "0  1.265062 -1.414214  1.273253  1.261588  1.263904 -1.127110 -1.257987   \n",
       "1  0.101252 -0.707107  0.103714  0.099740  0.106377  0.467639 -1.257987   \n",
       "2  0.753255  0.000000  0.744089  0.744174  0.734323 -1.092763 -1.257987   \n",
       "3 -0.913308  0.707107 -0.908458 -0.913823 -0.907573 -0.303888 -1.257987   \n",
       "4 -1.356856  1.414214 -1.356342 -1.356488 -1.356626  0.467639 -1.257987   \n",
       "\n",
       "          7         8         9  \n",
       "0 -0.958717 -2.429782  0.141875  \n",
       "1 -0.958717 -2.429782  0.141875  \n",
       "2 -0.958717 -2.429782  0.141875  \n",
       "3 -0.958717 -2.429782  0.141875  \n",
       "4 -0.958717 -2.429782  0.141875  "
      ]
     },
     "execution_count": 139,
     "metadata": {},
     "output_type": "execute_result"
    }
   ],
   "source": [
    "x = df_sum.values\n",
    "scaler = StandardScaler()\n",
    "x_scaled = scaler.fit_transform(x)\n",
    "df_sum = pd.DataFrame(x_scaled)\n",
    "df_sum.head()"
   ]
  },
  {
   "cell_type": "code",
   "execution_count": 140,
   "metadata": {},
   "outputs": [],
   "source": [
    "xsum_train, xsum_test, ysum_train, ysum_test = train_test_split(df_sum,df_y,\n",
    "                                                                test_size = 0.3, random_state = 0)"
   ]
  },
  {
   "cell_type": "code",
   "execution_count": 150,
   "metadata": {},
   "outputs": [],
   "source": [
    "classifier = KNeighborsClassifier(n_neighbors = 7)\n",
    "classifier.fit(xsum_train, ysum_train)\n",
    "ysum_pred = classifier.predict(xsum_test)"
   ]
  },
  {
   "cell_type": "code",
   "execution_count": 151,
   "metadata": {
    "scrolled": true
   },
   "outputs": [
    {
     "name": "stdout",
     "output_type": "stream",
     "text": [
      "[[185 220]\n",
      " [181 271]]\n",
      "              precision    recall  f1-score   support\n",
      "\n",
      "           0       0.51      0.46      0.48       405\n",
      "           1       0.55      0.60      0.57       452\n",
      "\n",
      "    accuracy                           0.53       857\n",
      "   macro avg       0.53      0.53      0.53       857\n",
      "weighted avg       0.53      0.53      0.53       857\n",
      "\n"
     ]
    }
   ],
   "source": [
    "print(confusion_matrix(ysum_test, ysum_pred))\n",
    "print(classification_report(ysum_test,ysum_pred))"
   ]
  },
  {
   "cell_type": "code",
   "execution_count": 152,
   "metadata": {},
   "outputs": [
    {
     "data": {
      "text/plain": [
       "0.5320886814469078"
      ]
     },
     "execution_count": 152,
     "metadata": {},
     "output_type": "execute_result"
    }
   ],
   "source": [
    "accuracy_score(ysum_test, ysum_pred)"
   ]
  },
  {
   "cell_type": "code",
   "execution_count": null,
   "metadata": {},
   "outputs": [],
   "source": [
    "classifier = KNeighborsClassifier(n_neighbors = 7, weights= 'distance')\n",
    "classifier.fit(xsum_train, ysum_train)\n",
    "ysum_pred = classifier.predict(xsum_test)\n",
    "\n",
    "print(confusion_matrix(ysum_test, ysum_pred))\n",
    "print(classification_report(ysum_test,ysum_pred))\n",
    "print(accuracy_score(ysum_test, ysum_pred)"
   ]
  },
  {
   "cell_type": "markdown",
   "metadata": {},
   "source": [
    "##### Similar accuracy"
   ]
  },
  {
   "cell_type": "markdown",
   "metadata": {},
   "source": [
    "#### Oversample - due to a value count of 4 for negative sentiment, undersampling will not occur."
   ]
  },
  {
   "cell_type": "code",
   "execution_count": 29,
   "metadata": {},
   "outputs": [
    {
     "name": "stdout",
     "output_type": "stream",
     "text": [
      " 1    1899\n",
      " 0      95\n",
      "-1       4\n",
      "Name: content_sentiment, dtype: int64\n"
     ]
    }
   ],
   "source": [
    "print(sent_stock_train.value_counts())\n",
    "df_neutral_s = stock_train[sent_stock_train == 0]\n",
    "df_positive_s = stock_train[sent_stock_train == 1]\n",
    "df_negative_s = stock_train[sent_stock_train == -1]"
   ]
  },
  {
   "cell_type": "code",
   "execution_count": 30,
   "metadata": {},
   "outputs": [],
   "source": [
    "count_positive_s = 1899\n",
    "count_neutral_s = 95\n",
    "count_negative_s = 4"
   ]
  },
  {
   "cell_type": "code",
   "execution_count": 31,
   "metadata": {},
   "outputs": [
    {
     "name": "stdout",
     "output_type": "stream",
     "text": [
      "-1    1899\n",
      " 1    1899\n",
      " 0    1899\n",
      "Name: content_sentiment, dtype: int64\n"
     ]
    }
   ],
   "source": [
    "over_neg_s = df_negative_s.sample(count_positive_s, replace=True)\n",
    "over_neut_s = df_neutral_s.sample(count_positive_s, replace = True)\n",
    "over_train_s = pd.concat([df_positive_s, over_neg_s, over_neut_s], axis=0)\n",
    "print(over_train_s['content_sentiment'].value_counts())"
   ]
  },
  {
   "cell_type": "markdown",
   "metadata": {},
   "source": [
    "#### Run Model again."
   ]
  },
  {
   "cell_type": "code",
   "execution_count": 293,
   "metadata": {},
   "outputs": [],
   "source": [
    "classifier = LogisticRegression()\n",
    "classifier.fit(over_train_s, over_train_s['content_sentiment'])\n",
    "sent_pred = classifier.predict(stock_test)"
   ]
  },
  {
   "cell_type": "code",
   "execution_count": 294,
   "metadata": {},
   "outputs": [
    {
     "name": "stdout",
     "output_type": "stream",
     "text": [
      "[[  0   0   1]\n",
      " [  0   0  39]\n",
      " [  1   0 816]]\n",
      "              precision    recall  f1-score   support\n",
      "\n",
      "          -1       0.00      0.00      0.00         1\n",
      "           0       0.00      0.00      0.00        39\n",
      "           1       0.95      1.00      0.98       817\n",
      "\n",
      "    accuracy                           0.95       857\n",
      "   macro avg       0.32      0.33      0.33       857\n",
      "weighted avg       0.91      0.95      0.93       857\n",
      "\n",
      "0.9521586931155193\n"
     ]
    },
    {
     "name": "stderr",
     "output_type": "stream",
     "text": [
      "C:\\Users\\wrigh\\Anaconda3\\lib\\site-packages\\sklearn\\metrics\\_classification.py:1272: UndefinedMetricWarning: Precision and F-score are ill-defined and being set to 0.0 in labels with no predicted samples. Use `zero_division` parameter to control this behavior.\n",
      "  _warn_prf(average, modifier, msg_start, len(result))\n"
     ]
    }
   ],
   "source": [
    "print(confusion_matrix(sent_stock_test,sent_pred))\n",
    "print(classification_report(sent_stock_test,sent_pred))\n",
    "print(accuracy_score(sent_stock_test, sent_pred))"
   ]
  },
  {
   "cell_type": "markdown",
   "metadata": {},
   "source": [
    "#### KNN Model"
   ]
  },
  {
   "cell_type": "code",
   "execution_count": 34,
   "metadata": {},
   "outputs": [],
   "source": [
    "classifier = KNeighborsClassifier()\n",
    "classifier.fit(over_train_s, over_train_s['content_sentiment'])\n",
    "sent_pred = classifier.predict(stock_test)"
   ]
  },
  {
   "cell_type": "code",
   "execution_count": 37,
   "metadata": {},
   "outputs": [
    {
     "name": "stdout",
     "output_type": "stream",
     "text": [
      "[[  1   0   0]\n",
      " [  0  15  24]\n",
      " [  4  83 730]]\n",
      "              precision    recall  f1-score   support\n",
      "\n",
      "          -1       0.20      1.00      0.33         1\n",
      "           0       0.15      0.38      0.22        39\n",
      "           1       0.97      0.89      0.93       817\n",
      "\n",
      "    accuracy                           0.87       857\n",
      "   macro avg       0.44      0.76      0.49       857\n",
      "weighted avg       0.93      0.87      0.90       857\n",
      "\n",
      "0.8704784130688448\n"
     ]
    }
   ],
   "source": [
    "print(confusion_matrix(sent_stock_test,sent_pred))\n",
    "print(classification_report(sent_stock_test,sent_pred))\n",
    "print(accuracy_score(sent_stock_test, sent_pred))"
   ]
  },
  {
   "cell_type": "markdown",
   "metadata": {},
   "source": [
    "#### The presence of a single negative in the test set is  cause for concern, therefore a resamample will be done on the whole datatset and the model will be tested again."
   ]
  },
  {
   "cell_type": "code",
   "execution_count": 100,
   "metadata": {},
   "outputs": [
    {
     "name": "stdout",
     "output_type": "stream",
     "text": [
      " 1    2716\n",
      " 0     134\n",
      "-1       5\n",
      "Name: content_sentiment, dtype: int64\n"
     ]
    }
   ],
   "source": [
    "print(df2['content_sentiment'].value_counts())\n",
    "df_neutral = df2[df2['content_sentiment'] == 0]\n",
    "df_p = df2[df2['content_sentiment'] == 1]\n",
    "df_n = df2[df2['content_sentiment'] == -1]"
   ]
  },
  {
   "cell_type": "code",
   "execution_count": 101,
   "metadata": {},
   "outputs": [],
   "source": [
    "count_positive_df2 = 2716\n",
    "count_neutral_df2 = 134\n",
    "count_negative_df2 = 5"
   ]
  },
  {
   "cell_type": "markdown",
   "metadata": {},
   "source": [
    "#### Oversample - due to a value count of 4 for negative sentiment, undersampling will not occur."
   ]
  },
  {
   "cell_type": "code",
   "execution_count": 102,
   "metadata": {},
   "outputs": [
    {
     "name": "stdout",
     "output_type": "stream",
     "text": [
      "-1    2716\n",
      " 1    2716\n",
      " 0    2716\n",
      "Name: content_sentiment, dtype: int64\n"
     ]
    }
   ],
   "source": [
    "over_neg_df2 = df_n.sample(count_positive_df2, replace=True)\n",
    "over_neut_df2 = df_neutral.sample(count_positive_df2, replace = True)\n",
    "df2_over = pd.concat([df_p, over_neg_df2, over_neut_df2], axis=0)\n",
    "print(df2_over['content_sentiment'].value_counts())"
   ]
  },
  {
   "cell_type": "markdown",
   "metadata": {},
   "source": [
    "#### Split oversample into training and test sets."
   ]
  },
  {
   "cell_type": "code",
   "execution_count": 103,
   "metadata": {},
   "outputs": [
    {
     "data": {
      "text/plain": [
       "content sentiment score    float64\n",
       "title sentiment score      float64\n",
       "Exchange_Name                int64\n",
       "Adj Close                  float64\n",
       "Close                      float64\n",
       "High                       float64\n",
       "Low                        float64\n",
       "Open                       float64\n",
       "Volume                       int64\n",
       "title_sentiment              int64\n",
       "content_sentiment            int64\n",
       "dtype: object"
      ]
     },
     "execution_count": 103,
     "metadata": {},
     "output_type": "execute_result"
    }
   ],
   "source": [
    "df2_over.head()\n",
    "df2_over.dtypes"
   ]
  },
  {
   "cell_type": "code",
   "execution_count": 331,
   "metadata": {},
   "outputs": [],
   "source": [
    "x_train, x_test, y_train, y_test = train_test_split(df2_over, df2_over['content_sentiment'], \n",
    "                                                    test_size = 0.2, random_state = 0)"
   ]
  },
  {
   "cell_type": "markdown",
   "metadata": {},
   "source": [
    "#### Run Oversampling Model"
   ]
  },
  {
   "cell_type": "code",
   "execution_count": 332,
   "metadata": {},
   "outputs": [],
   "source": [
    "classifier = LogisticRegression()\n",
    "classifier.fit(x_train, y_train)\n",
    "y_pred = classifier.predict(x_test)"
   ]
  },
  {
   "cell_type": "code",
   "execution_count": 333,
   "metadata": {},
   "outputs": [
    {
     "name": "stdout",
     "output_type": "stream",
     "text": [
      "[[  0   0 538]\n",
      " [  0   0 558]\n",
      " [  0   0 534]]\n",
      "              precision    recall  f1-score   support\n",
      "\n",
      "          -1       0.00      0.00      0.00       538\n",
      "           0       0.00      0.00      0.00       558\n",
      "           1       0.33      1.00      0.49       534\n",
      "\n",
      "    accuracy                           0.33      1630\n",
      "   macro avg       0.11      0.33      0.16      1630\n",
      "weighted avg       0.11      0.33      0.16      1630\n",
      "\n",
      "0.3276073619631902\n"
     ]
    },
    {
     "name": "stderr",
     "output_type": "stream",
     "text": [
      "C:\\Users\\wrigh\\Anaconda3\\lib\\site-packages\\sklearn\\metrics\\_classification.py:1272: UndefinedMetricWarning: Precision and F-score are ill-defined and being set to 0.0 in labels with no predicted samples. Use `zero_division` parameter to control this behavior.\n",
      "  _warn_prf(average, modifier, msg_start, len(result))\n"
     ]
    }
   ],
   "source": [
    "print(confusion_matrix(y_test,y_pred))\n",
    "print(classification_report(y_test,y_pred))\n",
    "print(accuracy_score(y_test, y_pred))"
   ]
  },
  {
   "cell_type": "markdown",
   "metadata": {},
   "source": [
    "#### 32% accuaracy with oversampling entire dataset. Only positive values being predicted correctly. "
   ]
  },
  {
   "cell_type": "markdown",
   "metadata": {},
   "source": [
    "#### K Nearest Neighbours "
   ]
  },
  {
   "cell_type": "code",
   "execution_count": 334,
   "metadata": {},
   "outputs": [],
   "source": [
    "classifier = KNeighborsClassifier()\n",
    "classifier.fit(x_train, y_train)\n",
    "y_pred = classifier.predict(x_test)"
   ]
  },
  {
   "cell_type": "code",
   "execution_count": 335,
   "metadata": {},
   "outputs": [
    {
     "name": "stdout",
     "output_type": "stream",
     "text": [
      "[[538   0   0]\n",
      " [  0 558   0]\n",
      " [  2  71 461]]\n",
      "              precision    recall  f1-score   support\n",
      "\n",
      "          -1       1.00      1.00      1.00       538\n",
      "           0       0.89      1.00      0.94       558\n",
      "           1       1.00      0.86      0.93       534\n",
      "\n",
      "    accuracy                           0.96      1630\n",
      "   macro avg       0.96      0.95      0.95      1630\n",
      "weighted avg       0.96      0.96      0.95      1630\n",
      "\n",
      "0.9552147239263804\n"
     ]
    }
   ],
   "source": [
    "print(confusion_matrix(y_test,y_pred))\n",
    "print(classification_report(y_test,y_pred))\n",
    "print(accuracy_score(y_test, y_pred))"
   ]
  },
  {
   "cell_type": "markdown",
   "metadata": {},
   "source": [
    "#### Adjust n and weighting"
   ]
  },
  {
   "cell_type": "code",
   "execution_count": 326,
   "metadata": {},
   "outputs": [],
   "source": [
    "classifier = KNeighborsClassifier(n_neighbors=11)\n",
    "classifier.fit(x_train, y_train)\n",
    "y_pred = classifier.predict(x_test)"
   ]
  },
  {
   "cell_type": "code",
   "execution_count": 327,
   "metadata": {},
   "outputs": [
    {
     "name": "stdout",
     "output_type": "stream",
     "text": [
      "[[538   0   0]\n",
      " [  0 558   0]\n",
      " [  3 114 417]]\n",
      "              precision    recall  f1-score   support\n",
      "\n",
      "          -1       0.99      1.00      1.00       538\n",
      "           0       0.83      1.00      0.91       558\n",
      "           1       1.00      0.78      0.88       534\n",
      "\n",
      "    accuracy                           0.93      1630\n",
      "   macro avg       0.94      0.93      0.93      1630\n",
      "weighted avg       0.94      0.93      0.93      1630\n",
      "\n",
      "0.9282208588957055\n"
     ]
    }
   ],
   "source": [
    "print(confusion_matrix(y_test,y_pred))\n",
    "print(classification_report(y_test,y_pred))\n",
    "print(accuracy_score(y_test, y_pred))"
   ]
  },
  {
   "cell_type": "markdown",
   "metadata": {},
   "source": [
    "#### Opposite error occurs, with neutral and negative values being predicted positive 100% of the time. "
   ]
  },
  {
   "cell_type": "code",
   "execution_count": 323,
   "metadata": {},
   "outputs": [],
   "source": []
  },
  {
   "cell_type": "markdown",
   "metadata": {},
   "source": [
    "#### Normalize data"
   ]
  },
  {
   "cell_type": "code",
   "execution_count": 61,
   "metadata": {},
   "outputs": [],
   "source": [
    "from sklearn import preprocessing\n",
    "from sklearn import utils"
   ]
  },
  {
   "cell_type": "code",
   "execution_count": 109,
   "metadata": {},
   "outputs": [
    {
     "data": {
      "text/html": [
       "<div>\n",
       "<style scoped>\n",
       "    .dataframe tbody tr th:only-of-type {\n",
       "        vertical-align: middle;\n",
       "    }\n",
       "\n",
       "    .dataframe tbody tr th {\n",
       "        vertical-align: top;\n",
       "    }\n",
       "\n",
       "    .dataframe thead th {\n",
       "        text-align: right;\n",
       "    }\n",
       "</style>\n",
       "<table border=\"1\" class=\"dataframe\">\n",
       "  <thead>\n",
       "    <tr style=\"text-align: right;\">\n",
       "      <th></th>\n",
       "      <th>0</th>\n",
       "      <th>1</th>\n",
       "      <th>2</th>\n",
       "      <th>3</th>\n",
       "      <th>4</th>\n",
       "      <th>5</th>\n",
       "      <th>6</th>\n",
       "      <th>7</th>\n",
       "      <th>8</th>\n",
       "      <th>9</th>\n",
       "      <th>10</th>\n",
       "    </tr>\n",
       "  </thead>\n",
       "  <tbody>\n",
       "    <tr>\n",
       "      <th>0</th>\n",
       "      <td>0.413068</td>\n",
       "      <td>0.555469</td>\n",
       "      <td>0.00</td>\n",
       "      <td>0.812385</td>\n",
       "      <td>0.812385</td>\n",
       "      <td>0.816848</td>\n",
       "      <td>0.810069</td>\n",
       "      <td>0.812159</td>\n",
       "      <td>0.010039</td>\n",
       "      <td>0.5</td>\n",
       "      <td>1.0</td>\n",
       "    </tr>\n",
       "    <tr>\n",
       "      <th>1</th>\n",
       "      <td>0.413068</td>\n",
       "      <td>0.555469</td>\n",
       "      <td>0.25</td>\n",
       "      <td>0.456948</td>\n",
       "      <td>0.456948</td>\n",
       "      <td>0.458631</td>\n",
       "      <td>0.455904</td>\n",
       "      <td>0.458476</td>\n",
       "      <td>0.356528</td>\n",
       "      <td>0.5</td>\n",
       "      <td>1.0</td>\n",
       "    </tr>\n",
       "    <tr>\n",
       "      <th>2</th>\n",
       "      <td>0.413068</td>\n",
       "      <td>0.555469</td>\n",
       "      <td>0.50</td>\n",
       "      <td>0.656075</td>\n",
       "      <td>0.656075</td>\n",
       "      <td>0.654771</td>\n",
       "      <td>0.652346</td>\n",
       "      <td>0.650345</td>\n",
       "      <td>0.017501</td>\n",
       "      <td>0.5</td>\n",
       "      <td>1.0</td>\n",
       "    </tr>\n",
       "    <tr>\n",
       "      <th>3</th>\n",
       "      <td>0.413068</td>\n",
       "      <td>0.555469</td>\n",
       "      <td>0.75</td>\n",
       "      <td>0.147094</td>\n",
       "      <td>0.147094</td>\n",
       "      <td>0.148613</td>\n",
       "      <td>0.146942</td>\n",
       "      <td>0.148662</td>\n",
       "      <td>0.188899</td>\n",
       "      <td>0.5</td>\n",
       "      <td>1.0</td>\n",
       "    </tr>\n",
       "    <tr>\n",
       "      <th>4</th>\n",
       "      <td>0.413068</td>\n",
       "      <td>0.555469</td>\n",
       "      <td>1.00</td>\n",
       "      <td>0.011631</td>\n",
       "      <td>0.011631</td>\n",
       "      <td>0.011430</td>\n",
       "      <td>0.012005</td>\n",
       "      <td>0.011454</td>\n",
       "      <td>0.356528</td>\n",
       "      <td>0.5</td>\n",
       "      <td>1.0</td>\n",
       "    </tr>\n",
       "  </tbody>\n",
       "</table>\n",
       "</div>"
      ],
      "text/plain": [
       "          0         1     2         3         4         5         6         7  \\\n",
       "0  0.413068  0.555469  0.00  0.812385  0.812385  0.816848  0.810069  0.812159   \n",
       "1  0.413068  0.555469  0.25  0.456948  0.456948  0.458631  0.455904  0.458476   \n",
       "2  0.413068  0.555469  0.50  0.656075  0.656075  0.654771  0.652346  0.650345   \n",
       "3  0.413068  0.555469  0.75  0.147094  0.147094  0.148613  0.146942  0.148662   \n",
       "4  0.413068  0.555469  1.00  0.011631  0.011631  0.011430  0.012005  0.011454   \n",
       "\n",
       "          8    9   10  \n",
       "0  0.010039  0.5  1.0  \n",
       "1  0.356528  0.5  1.0  \n",
       "2  0.017501  0.5  1.0  \n",
       "3  0.188899  0.5  1.0  \n",
       "4  0.356528  0.5  1.0  "
      ]
     },
     "execution_count": 109,
     "metadata": {},
     "output_type": "execute_result"
    }
   ],
   "source": [
    "x = df2.values\n",
    "min_max_scaler = preprocessing.MinMaxScaler()\n",
    "x_scaled = min_max_scaler.fit_transform(x)\n",
    "df_norm = pd.DataFrame(x_scaled)\n",
    "df_norm.head()"
   ]
  },
  {
   "cell_type": "code",
   "execution_count": 110,
   "metadata": {},
   "outputs": [
    {
     "data": {
      "text/html": [
       "<div>\n",
       "<style scoped>\n",
       "    .dataframe tbody tr th:only-of-type {\n",
       "        vertical-align: middle;\n",
       "    }\n",
       "\n",
       "    .dataframe tbody tr th {\n",
       "        vertical-align: top;\n",
       "    }\n",
       "\n",
       "    .dataframe thead th {\n",
       "        text-align: right;\n",
       "    }\n",
       "</style>\n",
       "<table border=\"1\" class=\"dataframe\">\n",
       "  <thead>\n",
       "    <tr style=\"text-align: right;\">\n",
       "      <th></th>\n",
       "      <th>0</th>\n",
       "      <th>Ex_Name</th>\n",
       "      <th>2</th>\n",
       "      <th>3</th>\n",
       "      <th>4</th>\n",
       "      <th>5</th>\n",
       "      <th>6</th>\n",
       "      <th>7</th>\n",
       "      <th>8</th>\n",
       "      <th>t_sent</th>\n",
       "      <th>sent</th>\n",
       "    </tr>\n",
       "  </thead>\n",
       "  <tbody>\n",
       "    <tr>\n",
       "      <th>0</th>\n",
       "      <td>0.413068</td>\n",
       "      <td>0.555469</td>\n",
       "      <td>0.00</td>\n",
       "      <td>0.812385</td>\n",
       "      <td>0.812385</td>\n",
       "      <td>0.816848</td>\n",
       "      <td>0.810069</td>\n",
       "      <td>0.812159</td>\n",
       "      <td>0.010039</td>\n",
       "      <td>0.5</td>\n",
       "      <td>1.0</td>\n",
       "    </tr>\n",
       "    <tr>\n",
       "      <th>1</th>\n",
       "      <td>0.413068</td>\n",
       "      <td>0.555469</td>\n",
       "      <td>0.25</td>\n",
       "      <td>0.456948</td>\n",
       "      <td>0.456948</td>\n",
       "      <td>0.458631</td>\n",
       "      <td>0.455904</td>\n",
       "      <td>0.458476</td>\n",
       "      <td>0.356528</td>\n",
       "      <td>0.5</td>\n",
       "      <td>1.0</td>\n",
       "    </tr>\n",
       "    <tr>\n",
       "      <th>2</th>\n",
       "      <td>0.413068</td>\n",
       "      <td>0.555469</td>\n",
       "      <td>0.50</td>\n",
       "      <td>0.656075</td>\n",
       "      <td>0.656075</td>\n",
       "      <td>0.654771</td>\n",
       "      <td>0.652346</td>\n",
       "      <td>0.650345</td>\n",
       "      <td>0.017501</td>\n",
       "      <td>0.5</td>\n",
       "      <td>1.0</td>\n",
       "    </tr>\n",
       "    <tr>\n",
       "      <th>3</th>\n",
       "      <td>0.413068</td>\n",
       "      <td>0.555469</td>\n",
       "      <td>0.75</td>\n",
       "      <td>0.147094</td>\n",
       "      <td>0.147094</td>\n",
       "      <td>0.148613</td>\n",
       "      <td>0.146942</td>\n",
       "      <td>0.148662</td>\n",
       "      <td>0.188899</td>\n",
       "      <td>0.5</td>\n",
       "      <td>1.0</td>\n",
       "    </tr>\n",
       "    <tr>\n",
       "      <th>4</th>\n",
       "      <td>0.413068</td>\n",
       "      <td>0.555469</td>\n",
       "      <td>1.00</td>\n",
       "      <td>0.011631</td>\n",
       "      <td>0.011631</td>\n",
       "      <td>0.011430</td>\n",
       "      <td>0.012005</td>\n",
       "      <td>0.011454</td>\n",
       "      <td>0.356528</td>\n",
       "      <td>0.5</td>\n",
       "      <td>1.0</td>\n",
       "    </tr>\n",
       "  </tbody>\n",
       "</table>\n",
       "</div>"
      ],
      "text/plain": [
       "          0   Ex_Name     2         3         4         5         6         7  \\\n",
       "0  0.413068  0.555469  0.00  0.812385  0.812385  0.816848  0.810069  0.812159   \n",
       "1  0.413068  0.555469  0.25  0.456948  0.456948  0.458631  0.455904  0.458476   \n",
       "2  0.413068  0.555469  0.50  0.656075  0.656075  0.654771  0.652346  0.650345   \n",
       "3  0.413068  0.555469  0.75  0.147094  0.147094  0.148613  0.146942  0.148662   \n",
       "4  0.413068  0.555469  1.00  0.011631  0.011631  0.011430  0.012005  0.011454   \n",
       "\n",
       "          8  t_sent  sent  \n",
       "0  0.010039     0.5   1.0  \n",
       "1  0.356528     0.5   1.0  \n",
       "2  0.017501     0.5   1.0  \n",
       "3  0.188899     0.5   1.0  \n",
       "4  0.356528     0.5   1.0  "
      ]
     },
     "execution_count": 110,
     "metadata": {},
     "output_type": "execute_result"
    }
   ],
   "source": [
    "df_norm.head()\n",
    "df_norm.rename(columns = { 10 : 'sent', 1 : 'Ex_Name', 9 : 't_sent'}, inplace = True)\n",
    "df_norm.head()"
   ]
  },
  {
   "cell_type": "code",
   "execution_count": 113,
   "metadata": {},
   "outputs": [
    {
     "data": {
      "text/plain": [
       "0          float64\n",
       "Ex_Name      int64\n",
       "2          float64\n",
       "3          float64\n",
       "4          float64\n",
       "5          float64\n",
       "6          float64\n",
       "7          float64\n",
       "8          float64\n",
       "t_sent       int64\n",
       "sent         int64\n",
       "dtype: object"
      ]
     },
     "execution_count": 113,
     "metadata": {},
     "output_type": "execute_result"
    }
   ],
   "source": [
    "df_norm.dtypes\n",
    "df_norm['Ex_Name'] = df_norm['Ex_Name'].astype('int64')\n",
    "df_norm['t_sent'] = df_norm['t_sent'].astype('int64')\n",
    "df_norm['sent'] = df_norm['sent'].astype('int64')\n",
    "df_norm.dtypes"
   ]
  },
  {
   "cell_type": "code",
   "execution_count": 114,
   "metadata": {},
   "outputs": [],
   "source": [
    "xn_train, xn_test, yn_train, yn_test = train_test_split(df_norm, df_norm['sent'], \n",
    "                                                        test_size = 0.3, random_state = 0)"
   ]
  },
  {
   "cell_type": "code",
   "execution_count": 115,
   "metadata": {},
   "outputs": [],
   "source": [
    "classifier = KNeighborsClassifier()\n",
    "classifier.fit(xn_train, yn_train)\n",
    "yn_pred = classifier.predict(xn_test)"
   ]
  },
  {
   "cell_type": "code",
   "execution_count": 116,
   "metadata": {},
   "outputs": [
    {
     "name": "stdout",
     "output_type": "stream",
     "text": [
      "[[ 40   0]\n",
      " [  0 817]]\n",
      "              precision    recall  f1-score   support\n",
      "\n",
      "           0       1.00      1.00      1.00        40\n",
      "           1       1.00      1.00      1.00       817\n",
      "\n",
      "    accuracy                           1.00       857\n",
      "   macro avg       1.00      1.00      1.00       857\n",
      "weighted avg       1.00      1.00      1.00       857\n",
      "\n",
      "1.0\n"
     ]
    }
   ],
   "source": [
    "print(confusion_matrix(yn_test,yn_pred))\n",
    "print(classification_report(yn_test,yn_pred))\n",
    "print(accuracy_score(yn_test, yn_pred))"
   ]
  },
  {
   "cell_type": "code",
   "execution_count": 117,
   "metadata": {},
   "outputs": [],
   "source": [
    "classifier = LogisticRegression()\n",
    "classifier.fit(xn_train, yn_train)\n",
    "y_pred = classifier.predict(xn_test)"
   ]
  },
  {
   "cell_type": "code",
   "execution_count": 118,
   "metadata": {},
   "outputs": [
    {
     "name": "stdout",
     "output_type": "stream",
     "text": [
      "[[ 40   0]\n",
      " [  0 817]]\n",
      "              precision    recall  f1-score   support\n",
      "\n",
      "           0       1.00      1.00      1.00        40\n",
      "           1       1.00      1.00      1.00       817\n",
      "\n",
      "    accuracy                           1.00       857\n",
      "   macro avg       1.00      1.00      1.00       857\n",
      "weighted avg       1.00      1.00      1.00       857\n",
      "\n",
      "1.0\n"
     ]
    }
   ],
   "source": [
    "print(confusion_matrix(yn_test,yn_pred))\n",
    "print(classification_report(yn_test,yn_pred))\n",
    "print(accuracy_score(yn_test, yn_pred))"
   ]
  },
  {
   "cell_type": "markdown",
   "metadata": {},
   "source": [
    "#### Shift to Keras to build Neural Network"
   ]
  },
  {
   "cell_type": "code",
   "execution_count": 155,
   "metadata": {},
   "outputs": [
    {
     "name": "stderr",
     "output_type": "stream",
     "text": [
      "Using TensorFlow backend.\n"
     ]
    }
   ],
   "source": [
    "from keras.models import Sequential\n",
    "from keras.layers import LSTM\n",
    "from keras.layers import Dropout\n",
    "from keras.layers import Dense"
   ]
  },
  {
   "cell_type": "code",
   "execution_count": null,
   "metadata": {},
   "outputs": [],
   "source": []
  },
  {
   "cell_type": "code",
   "execution_count": null,
   "metadata": {},
   "outputs": [],
   "source": []
  }
 ],
 "metadata": {
  "kernelspec": {
   "display_name": "Python 3",
   "language": "python",
   "name": "python3"
  },
  "language_info": {
   "codemirror_mode": {
    "name": "ipython",
    "version": 3
   },
   "file_extension": ".py",
   "mimetype": "text/x-python",
   "name": "python",
   "nbconvert_exporter": "python",
   "pygments_lexer": "ipython3",
   "version": "3.7.6"
  }
 },
 "nbformat": 4,
 "nbformat_minor": 4
}
