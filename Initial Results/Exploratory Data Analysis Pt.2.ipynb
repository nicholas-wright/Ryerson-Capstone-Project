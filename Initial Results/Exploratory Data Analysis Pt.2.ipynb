{
 "cells": [
  {
   "cell_type": "markdown",
   "metadata": {},
   "source": [
    "### Load packages"
   ]
  },
  {
   "cell_type": "code",
   "execution_count": 52,
   "metadata": {},
   "outputs": [
    {
     "name": "stderr",
     "output_type": "stream",
     "text": [
      "[nltk_data] Downloading package stopwords to\n",
      "[nltk_data]     C:\\Users\\wrigh\\AppData\\Roaming\\nltk_data...\n",
      "[nltk_data]   Package stopwords is already up-to-date!\n"
     ]
    }
   ],
   "source": [
    "import pandas as pd\n",
    "import os as os\n",
    "import seaborn as sns\n",
    "\n",
    "import re\n",
    "\n",
    "import nltk\n",
    "nltk.download('stopwords')\n",
    "from nltk.corpus import stopwords\n",
    "from nltk.stem.porter import PorterStemmer\n",
    "\n",
    "from sklearn.feature_extraction.text import CountVectorizer\n",
    "from sklearn.model_selection import train_test_split\n",
    "from sklearn.naive_bayes import GaussianNB\n",
    "from sklearn.metrics import confusion_matrix\n",
    "\n",
    "import textblob\n",
    "from textblob import TextBlob"
   ]
  },
  {
   "cell_type": "code",
   "execution_count": 53,
   "metadata": {},
   "outputs": [],
   "source": [
    "os.chdir('C:\\\\Users\\\\wrigh\\\\Downloads')"
   ]
  },
  {
   "cell_type": "markdown",
   "metadata": {},
   "source": [
    "### Assign Sentiment Scores to articles using TextBlob Sentiment Analyzer "
   ]
  },
  {
   "cell_type": "code",
   "execution_count": 75,
   "metadata": {},
   "outputs": [],
   "source": [
    "newsdf = pd.read_csv('News_Headlines_Clean.csv')"
   ]
  },
  {
   "cell_type": "code",
   "execution_count": 89,
   "metadata": {},
   "outputs": [],
   "source": [
    "sentiment_titles = [round(TextBlob(title).sentiment.polarity, 3) for title in newsdf['title']]\n",
    "sentiment_titles_category = ['positive' if score > 0.05 \n",
    "                             else 'negative' if score < -0.05\n",
    "                             else 'neutral' \n",
    "                             for score in sentiment_titles]"
   ]
  },
  {
   "cell_type": "code",
   "execution_count": 90,
   "metadata": {},
   "outputs": [],
   "source": [
    "newsdf['title sentiment'] = pd.DataFrame(sentiment_titles_category)\n",
    "newsdf['title sentiment score'] = pd.DataFrame(sentiment_titles)"
   ]
  },
  {
   "cell_type": "code",
   "execution_count": 93,
   "metadata": {},
   "outputs": [
    {
     "data": {
      "text/html": [
       "<div>\n",
       "<style scoped>\n",
       "    .dataframe tbody tr th:only-of-type {\n",
       "        vertical-align: middle;\n",
       "    }\n",
       "\n",
       "    .dataframe tbody tr th {\n",
       "        vertical-align: top;\n",
       "    }\n",
       "\n",
       "    .dataframe thead th {\n",
       "        text-align: right;\n",
       "    }\n",
       "</style>\n",
       "<table border=\"1\" class=\"dataframe\">\n",
       "  <thead>\n",
       "    <tr style=\"text-align: right;\">\n",
       "      <th></th>\n",
       "      <th>title</th>\n",
       "      <th>publication</th>\n",
       "      <th>author</th>\n",
       "      <th>date</th>\n",
       "      <th>year</th>\n",
       "      <th>month</th>\n",
       "      <th>content</th>\n",
       "      <th>title sentiment</th>\n",
       "      <th>title sentiment score</th>\n",
       "      <th>content sentiment</th>\n",
       "      <th>content sentiment score</th>\n",
       "    </tr>\n",
       "  </thead>\n",
       "  <tbody>\n",
       "    <tr>\n",
       "      <th>0</th>\n",
       "      <td>Hillary Clinton’s point of no return</td>\n",
       "      <td>CNN</td>\n",
       "      <td>Dan Merica</td>\n",
       "      <td>2015-01-01</td>\n",
       "      <td>2015.0</td>\n",
       "      <td>1.0</td>\n",
       "      <td>Washington (CNN) As Democrats close to Hillary...</td>\n",
       "      <td>neutral</td>\n",
       "      <td>0.0</td>\n",
       "      <td>negative</td>\n",
       "      <td>0.072</td>\n",
       "    </tr>\n",
       "    <tr>\n",
       "      <th>1</th>\n",
       "      <td>Taylor Swift’s year-end gift video brings all ...</td>\n",
       "      <td>CNN</td>\n",
       "      <td>Lisa Respers France</td>\n",
       "      <td>2015-01-01</td>\n",
       "      <td>2015.0</td>\n",
       "      <td>1.0</td>\n",
       "      <td>(CNN) Way to make us weep, Taylor Swift. As i...</td>\n",
       "      <td>neutral</td>\n",
       "      <td>0.0</td>\n",
       "      <td>negative</td>\n",
       "      <td>0.118</td>\n",
       "    </tr>\n",
       "    <tr>\n",
       "      <th>2</th>\n",
       "      <td>When is your tweet a threat? (Opinion)</td>\n",
       "      <td>CNN</td>\n",
       "      <td>Danny Cevallos</td>\n",
       "      <td>2015-01-02</td>\n",
       "      <td>2015.0</td>\n",
       "      <td>1.0</td>\n",
       "      <td>(CNN) The New York Police Department faced a ...</td>\n",
       "      <td>neutral</td>\n",
       "      <td>0.0</td>\n",
       "      <td>negative</td>\n",
       "      <td>0.104</td>\n",
       "    </tr>\n",
       "    <tr>\n",
       "      <th>3</th>\n",
       "      <td>Bono says he’s worried he may never play guita...</td>\n",
       "      <td>CNN</td>\n",
       "      <td>Lisa Respers France</td>\n",
       "      <td>2015-01-02</td>\n",
       "      <td>2015.0</td>\n",
       "      <td>1.0</td>\n",
       "      <td>(CNN) Bono has shared with fans that recovery...</td>\n",
       "      <td>neutral</td>\n",
       "      <td>0.0</td>\n",
       "      <td>negative</td>\n",
       "      <td>0.033</td>\n",
       "    </tr>\n",
       "    <tr>\n",
       "      <th>4</th>\n",
       "      <td>Donna Douglas, ’Beverly Hillbillies’ Elly May,...</td>\n",
       "      <td>CNN</td>\n",
       "      <td>Todd Leopold</td>\n",
       "      <td>2015-01-02</td>\n",
       "      <td>2015.0</td>\n",
       "      <td>1.0</td>\n",
       "      <td>(CNN) Donna Douglas, who played voluptuous to...</td>\n",
       "      <td>negative</td>\n",
       "      <td>-0.2</td>\n",
       "      <td>negative</td>\n",
       "      <td>0.144</td>\n",
       "    </tr>\n",
       "  </tbody>\n",
       "</table>\n",
       "</div>"
      ],
      "text/plain": [
       "                                               title publication  \\\n",
       "0               Hillary Clinton’s point of no return         CNN   \n",
       "1  Taylor Swift’s year-end gift video brings all ...         CNN   \n",
       "2             When is your tweet a threat? (Opinion)         CNN   \n",
       "3  Bono says he’s worried he may never play guita...         CNN   \n",
       "4  Donna Douglas, ’Beverly Hillbillies’ Elly May,...         CNN   \n",
       "\n",
       "                author        date    year  month  \\\n",
       "0           Dan Merica  2015-01-01  2015.0    1.0   \n",
       "1  Lisa Respers France  2015-01-01  2015.0    1.0   \n",
       "2       Danny Cevallos  2015-01-02  2015.0    1.0   \n",
       "3  Lisa Respers France  2015-01-02  2015.0    1.0   \n",
       "4         Todd Leopold  2015-01-02  2015.0    1.0   \n",
       "\n",
       "                                             content title sentiment  \\\n",
       "0  Washington (CNN) As Democrats close to Hillary...         neutral   \n",
       "1   (CNN) Way to make us weep, Taylor Swift. As i...         neutral   \n",
       "2   (CNN) The New York Police Department faced a ...         neutral   \n",
       "3   (CNN) Bono has shared with fans that recovery...         neutral   \n",
       "4   (CNN) Donna Douglas, who played voluptuous to...        negative   \n",
       "\n",
       "   title sentiment score content sentiment  content sentiment score  \n",
       "0                    0.0          negative                    0.072  \n",
       "1                    0.0          negative                    0.118  \n",
       "2                    0.0          negative                    0.104  \n",
       "3                    0.0          negative                    0.033  \n",
       "4                   -0.2          negative                    0.144  "
      ]
     },
     "execution_count": 93,
     "metadata": {},
     "output_type": "execute_result"
    }
   ],
   "source": [
    "newsdf.head()"
   ]
  },
  {
   "cell_type": "code",
   "execution_count": 101,
   "metadata": {},
   "outputs": [],
   "source": [
    "sentiment_content = [round(TextBlob(article).sentiment.polarity, 3) for article in newsdf['content']]\n",
    "sentiment_content_category = ['positive' if score > 0.05 \n",
    "                             else 'negative' if score < 0.05\n",
    "                             else 'neutral' \n",
    "                             for score in sentiment_content]"
   ]
  },
  {
   "cell_type": "code",
   "execution_count": 104,
   "metadata": {},
   "outputs": [],
   "source": [
    "newsdf['content sentiment'] = pd.DataFrame(sentiment_content_category)\n",
    "newsdf['content sentiment score'] = pd.DataFrame(sentiment_content)"
   ]
  },
  {
   "cell_type": "code",
   "execution_count": 105,
   "metadata": {
    "scrolled": true
   },
   "outputs": [
    {
     "data": {
      "text/plain": [
       "positive    103617\n",
       "negative     20590\n",
       "neutral        377\n",
       "Name: content sentiment, dtype: int64"
      ]
     },
     "execution_count": 105,
     "metadata": {},
     "output_type": "execute_result"
    }
   ],
   "source": [
    "newsdf['content sentiment'].value_counts()"
   ]
  },
  {
   "cell_type": "code",
   "execution_count": 132,
   "metadata": {},
   "outputs": [
    {
     "data": {
      "text/plain": [
       "neutral     65261\n",
       "positive    36866\n",
       "negative    22457\n",
       "Name: title sentiment, dtype: int64"
      ]
     },
     "execution_count": 132,
     "metadata": {},
     "output_type": "execute_result"
    }
   ],
   "source": [
    "newsdf['title sentiment'].value_counts()"
   ]
  },
  {
   "cell_type": "code",
   "execution_count": 106,
   "metadata": {},
   "outputs": [
    {
     "data": {
      "text/html": [
       "<div>\n",
       "<style scoped>\n",
       "    .dataframe tbody tr th:only-of-type {\n",
       "        vertical-align: middle;\n",
       "    }\n",
       "\n",
       "    .dataframe tbody tr th {\n",
       "        vertical-align: top;\n",
       "    }\n",
       "\n",
       "    .dataframe thead th {\n",
       "        text-align: right;\n",
       "    }\n",
       "</style>\n",
       "<table border=\"1\" class=\"dataframe\">\n",
       "  <thead>\n",
       "    <tr style=\"text-align: right;\">\n",
       "      <th></th>\n",
       "      <th>title</th>\n",
       "      <th>publication</th>\n",
       "      <th>author</th>\n",
       "      <th>date</th>\n",
       "      <th>year</th>\n",
       "      <th>month</th>\n",
       "      <th>content</th>\n",
       "      <th>title sentiment</th>\n",
       "      <th>title sentiment score</th>\n",
       "      <th>content sentiment</th>\n",
       "      <th>content sentiment score</th>\n",
       "    </tr>\n",
       "  </thead>\n",
       "  <tbody>\n",
       "    <tr>\n",
       "      <th>0</th>\n",
       "      <td>Hillary Clinton’s point of no return</td>\n",
       "      <td>CNN</td>\n",
       "      <td>Dan Merica</td>\n",
       "      <td>2015-01-01</td>\n",
       "      <td>2015.0</td>\n",
       "      <td>1.0</td>\n",
       "      <td>Washington (CNN) As Democrats close to Hillary...</td>\n",
       "      <td>neutral</td>\n",
       "      <td>0.0</td>\n",
       "      <td>positive</td>\n",
       "      <td>0.072</td>\n",
       "    </tr>\n",
       "    <tr>\n",
       "      <th>1</th>\n",
       "      <td>Taylor Swift’s year-end gift video brings all ...</td>\n",
       "      <td>CNN</td>\n",
       "      <td>Lisa Respers France</td>\n",
       "      <td>2015-01-01</td>\n",
       "      <td>2015.0</td>\n",
       "      <td>1.0</td>\n",
       "      <td>(CNN) Way to make us weep, Taylor Swift. As i...</td>\n",
       "      <td>neutral</td>\n",
       "      <td>0.0</td>\n",
       "      <td>positive</td>\n",
       "      <td>0.118</td>\n",
       "    </tr>\n",
       "    <tr>\n",
       "      <th>2</th>\n",
       "      <td>When is your tweet a threat? (Opinion)</td>\n",
       "      <td>CNN</td>\n",
       "      <td>Danny Cevallos</td>\n",
       "      <td>2015-01-02</td>\n",
       "      <td>2015.0</td>\n",
       "      <td>1.0</td>\n",
       "      <td>(CNN) The New York Police Department faced a ...</td>\n",
       "      <td>neutral</td>\n",
       "      <td>0.0</td>\n",
       "      <td>positive</td>\n",
       "      <td>0.104</td>\n",
       "    </tr>\n",
       "    <tr>\n",
       "      <th>3</th>\n",
       "      <td>Bono says he’s worried he may never play guita...</td>\n",
       "      <td>CNN</td>\n",
       "      <td>Lisa Respers France</td>\n",
       "      <td>2015-01-02</td>\n",
       "      <td>2015.0</td>\n",
       "      <td>1.0</td>\n",
       "      <td>(CNN) Bono has shared with fans that recovery...</td>\n",
       "      <td>neutral</td>\n",
       "      <td>0.0</td>\n",
       "      <td>positive</td>\n",
       "      <td>0.033</td>\n",
       "    </tr>\n",
       "    <tr>\n",
       "      <th>4</th>\n",
       "      <td>Donna Douglas, ’Beverly Hillbillies’ Elly May,...</td>\n",
       "      <td>CNN</td>\n",
       "      <td>Todd Leopold</td>\n",
       "      <td>2015-01-02</td>\n",
       "      <td>2015.0</td>\n",
       "      <td>1.0</td>\n",
       "      <td>(CNN) Donna Douglas, who played voluptuous to...</td>\n",
       "      <td>negative</td>\n",
       "      <td>-0.2</td>\n",
       "      <td>positive</td>\n",
       "      <td>0.144</td>\n",
       "    </tr>\n",
       "  </tbody>\n",
       "</table>\n",
       "</div>"
      ],
      "text/plain": [
       "                                               title publication  \\\n",
       "0               Hillary Clinton’s point of no return         CNN   \n",
       "1  Taylor Swift’s year-end gift video brings all ...         CNN   \n",
       "2             When is your tweet a threat? (Opinion)         CNN   \n",
       "3  Bono says he’s worried he may never play guita...         CNN   \n",
       "4  Donna Douglas, ’Beverly Hillbillies’ Elly May,...         CNN   \n",
       "\n",
       "                author        date    year  month  \\\n",
       "0           Dan Merica  2015-01-01  2015.0    1.0   \n",
       "1  Lisa Respers France  2015-01-01  2015.0    1.0   \n",
       "2       Danny Cevallos  2015-01-02  2015.0    1.0   \n",
       "3  Lisa Respers France  2015-01-02  2015.0    1.0   \n",
       "4         Todd Leopold  2015-01-02  2015.0    1.0   \n",
       "\n",
       "                                             content title sentiment  \\\n",
       "0  Washington (CNN) As Democrats close to Hillary...         neutral   \n",
       "1   (CNN) Way to make us weep, Taylor Swift. As i...         neutral   \n",
       "2   (CNN) The New York Police Department faced a ...         neutral   \n",
       "3   (CNN) Bono has shared with fans that recovery...         neutral   \n",
       "4   (CNN) Donna Douglas, who played voluptuous to...        negative   \n",
       "\n",
       "   title sentiment score content sentiment  content sentiment score  \n",
       "0                    0.0          positive                    0.072  \n",
       "1                    0.0          positive                    0.118  \n",
       "2                    0.0          positive                    0.104  \n",
       "3                    0.0          positive                    0.033  \n",
       "4                   -0.2          positive                    0.144  "
      ]
     },
     "execution_count": 106,
     "metadata": {},
     "output_type": "execute_result"
    }
   ],
   "source": [
    "newsdf.to_csv('News Headlines + Sentiment.csv', index = False) \n",
    "newsdf = pd.read_csv('News Headlines + Sentiment.csv')\n",
    "newsdf.head()"
   ]
  },
  {
   "cell_type": "code",
   "execution_count": 107,
   "metadata": {},
   "outputs": [
    {
     "name": "stderr",
     "output_type": "stream",
     "text": [
      "C:\\Users\\wrigh\\Anaconda3\\lib\\site-packages\\seaborn\\categorical.py:3669: UserWarning: The `factorplot` function has been renamed to `catplot`. The original name will be removed in a future release. Please update your code. Note that the default `kind` in `factorplot` (`'point'`) has changed `'strip'` in `catplot`.\n",
      "  warnings.warn(msg)\n"
     ]
    },
    {
     "data": {
      "image/png": "[encoded data removed]",
      "text/plain": [
       "<Figure size 1359.75x360 with 1 Axes>"
      ]
     },
     "metadata": {
      "needs_background": "light"
     },
     "output_type": "display_data"
    }
   ],
   "source": [
    "# View sentiments expressed by publication.\n",
    "publishers = sns.factorplot(x='publication', hue='content sentiment', data=newsdf, kind='count', aspect = 3.5, \n",
    "                    palette={'negative': '#e74c3c', 'neutral': '#3498db', 'positive': '#2ecc71'})"
   ]
  },
  {
   "cell_type": "code",
   "execution_count": 117,
   "metadata": {},
   "outputs": [
    {
     "data": {
      "text/plain": [
       "<matplotlib.axes._subplots.AxesSubplot at 0x1d033e89f48>"
      ]
     },
     "execution_count": 117,
     "metadata": {},
     "output_type": "execute_result"
    },
    {
     "data": {
      "image/png": "[encoded data removed]",
      "text/plain": [
       "<Figure size 432x288 with 1 Axes>"
      ]
     },
     "metadata": {
      "needs_background": "light"
     },
     "output_type": "display_data"
    }
   ],
   "source": [
    "# View Sentiment Distribution.\n",
    "sns.distplot(newsdf['content sentiment score'], bins = 50)"
   ]
  },
  {
   "cell_type": "code",
   "execution_count": 131,
   "metadata": {},
   "outputs": [
    {
     "data": {
      "text/plain": [
       "<matplotlib.axes._subplots.AxesSubplot at 0x1cfa1c9fdc8>"
      ]
     },
     "execution_count": 131,
     "metadata": {},
     "output_type": "execute_result"
    },
    {
     "data": {
      "image/png": "[encoded data removed]",
      "text/plain": [
       "<Figure size 432x288 with 1 Axes>"
      ]
     },
     "metadata": {
      "needs_background": "light"
     },
     "output_type": "display_data"
    }
   ],
   "source": [
    "sns.distplot(newsdf['title sentiment score'], bins = 50)"
   ]
  },
  {
   "cell_type": "markdown",
   "metadata": {},
   "source": [
    "### Make Corpus for Text Analysis\n",
    "#### Make function to fill corpus"
   ]
  },
  {
   "cell_type": "code",
   "execution_count": 4,
   "metadata": {},
   "outputs": [
    {
     "data": {
      "text/plain": [
       "title          124690\n",
       "publication    124690\n",
       "author         124690\n",
       "date           124690\n",
       "year           124690\n",
       "month          124690\n",
       "content        124690\n",
       "dtype: int64"
      ]
     },
     "execution_count": 4,
     "metadata": {},
     "output_type": "execute_result"
    }
   ],
   "source": [
    "newsdf.count()"
   ]
  },
  {
   "cell_type": "code",
   "execution_count": 5,
   "metadata": {},
   "outputs": [],
   "source": [
    "# Do in chunks on Laptop, 20 minutes per 10,000. Utilize lab computers for final corpus.\n",
    "corpus_content = []\n",
    "for i in range(0, 10000):\n",
    "    review_content = re.sub('[^a-zA-z]', ' ', newsdf['content'][i])\n",
    "    review_content = review_content.lower()\n",
    "    review_content = review_content.split()\n",
    "    ps = PorterStemmer()\n",
    "    review_content = [ps.stem(word) for word in review_content if not word in set(stopwords.words('english'))]\n",
    "    review_content = ' '.join(review_content)\n",
    "    corpus_content.append(review_content)"
   ]
  },
  {
   "cell_type": "code",
   "execution_count": 6,
   "metadata": {},
   "outputs": [
    {
     "data": {
      "text/plain": [
       "'bill new comedi michael moor invad next ungener condescend unfunni characterist typifi propaganda also describ sorri state contemporari polit humor declin millennium moor larg blame sinc first distort documentari roger use stridenc partisanship snark despoil art form demean polit discours moor jovial pretens immedi divis start satir proposit american foreign polici januari quietli summon pentagon meet joint chief staff branch repres armi air forc marin michael said know fuck casual jibe introduc film premis moor bumptiou american visit global site bloodless social revolut finland norway iceland itali franc slovenia tunisia portug seek counterpoint unit state repeatedli done wrong invad next millionair moor goofbal imit presid obama european trunk show describ apolog tour matter moor turn sentiment patriot film end posit shallow neither credibl moor distinct maker documentari mockumentari realli mock idea journalist fair thorough report care convinc like imperi tv progeni jon stewart bill maher stephen colbert john oliv moor preach choir contrast european north african social program protest feckless american style protest illumin applaus sign moor sign polar american polit media start presidenti elect set deepli bolster event bush reelect hurrican katrina goe unquest becom new new journal chucklehead polit satir oper differ sort logic argument proof less import sens snide superior despit humbl front moor arrog stop offens patron interview father whose child kill massacr norwegian schoolchildren moor heartlessli goad forgiv parent turn screw audienc winc reliev father grace speciou diatrib part moor strategi mislabel norway atroc terror moor ignor truli remark mysteri griev father human natur say scandinavian pacif scattershot spike lee moor ideal countri build prison use scene brutal american prison viciou guard counterpoint investig european crime lackadais dishonest storytel satisfi moor polar studio audienc want cheerlead distast problemat unit state moor romantic europ goe unchalleng fact even statist clip promot film finnish prison guard sing world never ask utopia achiev awe differ social system like na colleg student gee wash hand say grace dinner portug moor film triniti cop pontif human digniti import thing life anoth portugues offici boast countri resolv crise appar moor seen last year astonish hors money portugues director pedro costa film miseri lisbon impoverish black immigr invad next offer inform moor uninterest modern europ difficulti depict best european art film like rade jude aferim trace romania dystopia histor bu uelian root philosoph view kind rather empath suffer vex social condit class crime unrest america hit leftist high point occupi ferguson free colleg summat moor ask one european woman lectur america lack chariti patron polit correct femin moor featur montag caucasian women pose outdoor somehow illustr notion women make better ruler men rich comfort enough devot comedi shame unit state moor deliber misrepres misunderstand melt pot boil moor apolog tour trip liber cloud cuckoo land purblind tourist avoid look person sociolog issu result crime make court penal system necessari across globe essenti moor interest examin human natur portray common human citizenship moral miss today polit satir moor maher stewart colbert gang interest assign blame american oppon thu contemporari polit satir becom polar defi idea share politi moor use satir dishonestli hope achiev ideolog power movi start michael moor partisanship popular fahrenheit symptom millenni elit movi trace indi filmmak work outsid major studio commerci concern broad appeal instead sought specialti market pride sophist base class cultur bia much polit lean hallmark american eccentr director like alexand payn sideway taken second career impresario overlook italian film like antonio pietrang newli knew well movi insid delight suicid gawkerreagan derang syndrom aliv wellin babi driver hollywood goe asperg stypic moral sixti cultur chang pietrang follow starlet adriana stefania sandrelli career bed path combin patho prurienc suggest fellini night cabiria mash darl everi man adriana meet predatori desper remain irredeem pathet countri mous blind bright light cinecitt clich human truth earli exampl cynic payn purvey nebraska descend viewer cu realiz much smarter sadsack onscreen sandrelli charm anticip jennif lawrenc resembl help explain critic reject joy american eccentr david russel never condescend capitalist heroin pietrang ultim condescens toss adriana fate payn pietrang smart adriana reduc cultur stereotyp everi overlook foreign film masterpiec armond white film critic write movi nation review onlin receiv american book award award author resist ten year pop cultur shook world forthcom talk talk movi'"
      ]
     },
     "execution_count": 6,
     "metadata": {},
     "output_type": "execute_result"
    }
   ],
   "source": [
    "corpus_content[9999]"
   ]
  },
  {
   "cell_type": "code",
   "execution_count": 8,
   "metadata": {},
   "outputs": [],
   "source": [
    "corpus_title = []\n",
    "for i in range(0,124690):\n",
    "    review_title = re.sub('[^a-zA-z]', ' ', newsdf['title'][i])\n",
    "    review_title = review_title.lower()\n",
    "    review_title = review_title.split()\n",
    "    ps2 = PorterStemmer()\n",
    "    review_title = [ps2.stem(word) for word in review_title if not word in set(stopwords.words('english'))]\n",
    "    review_title = ' '.join(review_title)\n",
    "    corpus_title.append(review_title)"
   ]
  },
  {
   "cell_type": "code",
   "execution_count": 10,
   "metadata": {
    "scrolled": false
   },
   "outputs": [
    {
     "data": {
      "text/plain": [
       "'trump want us defend valu one'"
      ]
     },
     "execution_count": 10,
     "metadata": {},
     "output_type": "execute_result"
    }
   ],
   "source": [
    "corpus_title[124689]"
   ]
  },
  {
   "cell_type": "code",
   "execution_count": null,
   "metadata": {
    "scrolled": true
   },
   "outputs": [],
   "source": [
    "content = pd.DataFrame(data = content_corpus)\n",
    "content.to_csv('content_corpus.csv', index = False)"
   ]
  },
  {
   "cell_type": "code",
   "execution_count": 119,
   "metadata": {},
   "outputs": [],
   "source": [
    "content_corpus = pd.read_csv('content_corpus.csv')"
   ]
  },
  {
   "cell_type": "code",
   "execution_count": 14,
   "metadata": {},
   "outputs": [],
   "source": [
    "titles = pd.DataFrame(data = corpus_title)\n",
    "titles.to_csv('title_corpus.csv', index = False)"
   ]
  },
  {
   "cell_type": "code",
   "execution_count": 120,
   "metadata": {},
   "outputs": [],
   "source": [
    "title_corpus = pd.read_csv('title_corpus.csv')"
   ]
  },
  {
   "cell_type": "markdown",
   "metadata": {},
   "source": [
    "### Find most used words and bigrams"
   ]
  },
  {
   "cell_type": "code",
   "execution_count": 140,
   "metadata": {},
   "outputs": [
    {
     "name": "stdout",
     "output_type": "stream",
     "text": [
      "the 5418621\n",
      "to 2659646\n",
      "of 2402516\n",
      "and 2282926\n",
      "in 1910715\n",
      "that 1360144\n",
      "for 899156\n",
      "is 896357\n",
      "it 835333\n",
      "on 832761\n",
      "he 688602\n",
      "was 639881\n",
      "with 629478\n",
      "as 596894\n",
      "said 507019\n",
      "his 468561\n",
      "at 462348\n",
      "have 445471\n",
      "by 439149\n",
      "but 438669\n"
     ]
    }
   ],
   "source": [
    "# Most Used Words with stopwords.\n",
    "def top_words(content_corpus, n=None):\n",
    "    cv = CountVectorizer().fit(content_corpus)\n",
    "    bagofwords = cv.transform(content_corpus)\n",
    "    sum_words = bagofwords.sum(axis=0) \n",
    "    words_freq = [(word, sum_words[0, idx]) for word, idx in cv.vocabulary_.items()]\n",
    "    words_freq =sorted(words_freq, key = lambda x: x[1], reverse=True)\n",
    "    return words_freq[:n]\n",
    "common_words = top_words(newsdf['content'], 20)\n",
    "for word, freq in common_words:\n",
    "    print(word, freq)\n",
    "topwords = pd.DataFrame(common_words, columns = ['content' , 'count'])\n",
    "common = topwords.groupby('content').sum()['count'].sort_values(ascending=False)"
   ]
  },
  {
   "cell_type": "code",
   "execution_count": 142,
   "metadata": {},
   "outputs": [
    {
     "data": {
      "text/plain": [
       "<matplotlib.axes._subplots.AxesSubplot at 0x1d05e2edac8>"
      ]
     },
     "execution_count": 142,
     "metadata": {},
     "output_type": "execute_result"
    },
    {
     "data": {
      "image/png": "[encoded data removed]",
      "text/plain": [
       "<Figure size 432x288 with 1 Axes>"
      ]
     },
     "metadata": {
      "needs_background": "light"
     },
     "output_type": "display_data"
    }
   ],
   "source": [
    "common.plot.bar()"
   ]
  },
  {
   "cell_type": "code",
   "execution_count": 143,
   "metadata": {},
   "outputs": [
    {
     "name": "stdout",
     "output_type": "stream",
     "text": [
      "said 507019\n",
      "trump 409872\n",
      "people 227554\n",
      "new 185570\n",
      "like 162359\n",
      "president 154028\n",
      "just 145319\n",
      "time 130074\n",
      "clinton 120753\n",
      "state 114487\n",
      "says 114234\n",
      "years 111262\n",
      "year 100606\n",
      "mr 95889\n",
      "told 92182\n",
      "percent 90618\n",
      "don 87874\n",
      "states 87428\n",
      "did 85039\n",
      "make 84183\n"
     ]
    }
   ],
   "source": [
    "# Most Used Words with stopwords removed.\n",
    "def words_content(content_corpus, n=None):\n",
    "    cv = CountVectorizer(stop_words = 'english').fit(content_corpus)\n",
    "    bagofwords = cv.transform(content_corpus)\n",
    "    sum_words = bagofwords.sum(axis=0) \n",
    "    words_freq = [(word, sum_words[0, idx]) for word, idx in cv.vocabulary_.items()]\n",
    "    words_freq =sorted(words_freq, key = lambda x: x[1], reverse=True)\n",
    "    return words_freq[:n]\n",
    "common_words = words_content(newsdf['content'], 20)\n",
    "for word, freq in common_words:\n",
    "    print(word, freq)\n",
    "content_words = pd.DataFrame(common_words, columns = ['content' , 'count'])\n",
    "words = content_words.groupby('content').sum()['count'].sort_values(ascending=False)"
   ]
  },
  {
   "cell_type": "code",
   "execution_count": 144,
   "metadata": {},
   "outputs": [
    {
     "data": {
      "text/plain": [
       "<matplotlib.axes._subplots.AxesSubplot at 0x1d0b2172948>"
      ]
     },
     "execution_count": 144,
     "metadata": {},
     "output_type": "execute_result"
    },
    {
     "data": {
      "image/png": "[encoded data removed]",
      "text/plain": [
       "<Figure size 432x288 with 1 Axes>"
      ]
     },
     "metadata": {
      "needs_background": "light"
     },
     "output_type": "display_data"
    }
   ],
   "source": [
    "words.plot.bar()"
   ]
  },
  {
   "cell_type": "code",
   "execution_count": 147,
   "metadata": {},
   "outputs": [
    {
     "name": "stdout",
     "output_type": "stream",
     "text": [
      "donald trump 65204\n",
      "united states 52913\n",
      "new york 50954\n",
      "white house 38956\n",
      "hillary clinton 33441\n",
      "mr trump 25841\n",
      "supreme court 15700\n",
      "years ago 14731\n",
      "washington post 14227\n",
      "trump said 14225\n",
      "president trump 14147\n",
      "islamic state 13567\n",
      "president obama 13042\n",
      "barack obama 12459\n",
      "north korea 12185\n",
      "obama administration 12052\n",
      "national security 11693\n",
      "don know 11644\n",
      "social media 11586\n",
      "york times 11564\n"
     ]
    }
   ],
   "source": [
    "# Get most used bigrams and remove stopwords\n",
    "def bigram(content_corpus, n=None):\n",
    "    cv = CountVectorizer(ngram_range=(2, 2), stop_words='english').fit(content_corpus)\n",
    "    bagofwords = cv.transform(content_corpus)\n",
    "    sum_words = bagofwords.sum(axis=0) \n",
    "    words_freq = [(word, sum_words[0, idx]) for word, idx in cv.vocabulary_.items()]\n",
    "    words_freq =sorted(words_freq, key = lambda x: x[1], reverse=True)\n",
    "    return words_freq[:n]\n",
    "bigram_words = bigram(newsdf['content'], 20)\n",
    "for word, freq in bigram_words:\n",
    "    print(word, freq)\n",
    "bigrams = pd.DataFrame(common_words, columns = ['content' , 'count'])\n",
    "grams = bigrams.groupby('content').sum()['count'].sort_values(ascending=False)"
   ]
  },
  {
   "cell_type": "code",
   "execution_count": 150,
   "metadata": {},
   "outputs": [
    {
     "data": {
      "text/plain": [
       "<matplotlib.axes._subplots.AxesSubplot at 0x1d0aa868788>"
      ]
     },
     "execution_count": 150,
     "metadata": {},
     "output_type": "execute_result"
    },
    {
     "data": {
      "image/png": "[encoded data removed]",
      "text/plain": [
       "<Figure size 432x288 with 1 Axes>"
      ]
     },
     "metadata": {
      "needs_background": "light"
     },
     "output_type": "display_data"
    }
   ],
   "source": [
    "grams.plot.bar()"
   ]
  },
  {
   "cell_type": "code",
   "execution_count": null,
   "metadata": {},
   "outputs": [],
   "source": [
    "# Get most used trigrams and remove stopwords\n",
    "def trigram(content_corpus, n=None):\n",
    "    cv = CountVectorizer(ngram_range=(3, 3), stop_words='english').fit(content_corpus)\n",
    "    bagofwords = cv.transform(content_corpus)\n",
    "    sum_words = bagofwords.sum(axis=0) \n",
    "    words_freq = [(word, sum_words[0, idx]) for word, idx in cv.vocabulary_.items()]\n",
    "    words_freq =sorted(words_freq, key = lambda x: x[1], reverse=True)\n",
    "    return words_freq[:n]\n",
    "trigram_words = bigram(newsdf['content'], 20)\n",
    "for word, freq in bigram_words:\n",
    "    print(word, freq)\n",
    "trigrams = pd.DataFrame(common_words, columns = ['content' , 'count'])\n",
    "trigrams_gram = bigrams.groupby('content').sum()['count'].sort_values(ascending=False)"
   ]
  },
  {
   "cell_type": "code",
   "execution_count": null,
   "metadata": {},
   "outputs": [],
   "source": [
    "trigrams_gram.bar.plot()"
   ]
  },
  {
   "cell_type": "markdown",
   "metadata": {},
   "source": [
    "### Merge Stock Dataset and News Headlines + Sentiment Dataset"
   ]
  },
  {
   "cell_type": "code",
   "execution_count": 152,
   "metadata": {},
   "outputs": [
    {
     "data": {
      "text/html": [
       "<div>\n",
       "<style scoped>\n",
       "    .dataframe tbody tr th:only-of-type {\n",
       "        vertical-align: middle;\n",
       "    }\n",
       "\n",
       "    .dataframe tbody tr th {\n",
       "        vertical-align: top;\n",
       "    }\n",
       "\n",
       "    .dataframe thead th {\n",
       "        text-align: right;\n",
       "    }\n",
       "</style>\n",
       "<table border=\"1\" class=\"dataframe\">\n",
       "  <thead>\n",
       "    <tr style=\"text-align: right;\">\n",
       "      <th></th>\n",
       "      <th>Date</th>\n",
       "      <th>Open</th>\n",
       "      <th>High</th>\n",
       "      <th>Low</th>\n",
       "      <th>Close</th>\n",
       "      <th>Adj Close</th>\n",
       "      <th>Volume</th>\n",
       "      <th>Exchange_Name</th>\n",
       "    </tr>\n",
       "  </thead>\n",
       "  <tbody>\n",
       "    <tr>\n",
       "      <th>0</th>\n",
       "      <td>2015-01-02</td>\n",
       "      <td>17823.070313</td>\n",
       "      <td>17951.779297</td>\n",
       "      <td>17731.300781</td>\n",
       "      <td>17832.990234</td>\n",
       "      <td>17832.990234</td>\n",
       "      <td>76270000</td>\n",
       "      <td>Dow Jones</td>\n",
       "    </tr>\n",
       "    <tr>\n",
       "      <th>1</th>\n",
       "      <td>2015-01-02</td>\n",
       "      <td>10859.799805</td>\n",
       "      <td>10889.250000</td>\n",
       "      <td>10770.509766</td>\n",
       "      <td>10830.919922</td>\n",
       "      <td>10830.919922</td>\n",
       "      <td>2708700000</td>\n",
       "      <td>NYSE</td>\n",
       "    </tr>\n",
       "    <tr>\n",
       "      <th>2</th>\n",
       "      <td>2015-01-02</td>\n",
       "      <td>14637.299805</td>\n",
       "      <td>14756.299805</td>\n",
       "      <td>14631.400391</td>\n",
       "      <td>14753.700195</td>\n",
       "      <td>14753.700195</td>\n",
       "      <td>132965800</td>\n",
       "      <td>TSX/S&amp;P</td>\n",
       "    </tr>\n",
       "    <tr>\n",
       "      <th>3</th>\n",
       "      <td>2015-01-02</td>\n",
       "      <td>4760.240234</td>\n",
       "      <td>4777.009766</td>\n",
       "      <td>4698.109863</td>\n",
       "      <td>4726.810059</td>\n",
       "      <td>4726.810059</td>\n",
       "      <td>1435150000</td>\n",
       "      <td>NASDAQ</td>\n",
       "    </tr>\n",
       "    <tr>\n",
       "      <th>4</th>\n",
       "      <td>2015-01-02</td>\n",
       "      <td>2058.899902</td>\n",
       "      <td>2072.360107</td>\n",
       "      <td>2046.040039</td>\n",
       "      <td>2058.199951</td>\n",
       "      <td>2058.199951</td>\n",
       "      <td>2708700000</td>\n",
       "      <td>S&amp;P</td>\n",
       "    </tr>\n",
       "  </tbody>\n",
       "</table>\n",
       "</div>"
      ],
      "text/plain": [
       "         Date          Open          High           Low         Close  \\\n",
       "0  2015-01-02  17823.070313  17951.779297  17731.300781  17832.990234   \n",
       "1  2015-01-02  10859.799805  10889.250000  10770.509766  10830.919922   \n",
       "2  2015-01-02  14637.299805  14756.299805  14631.400391  14753.700195   \n",
       "3  2015-01-02   4760.240234   4777.009766   4698.109863   4726.810059   \n",
       "4  2015-01-02   2058.899902   2072.360107   2046.040039   2058.199951   \n",
       "\n",
       "      Adj Close      Volume Exchange_Name  \n",
       "0  17832.990234    76270000     Dow Jones  \n",
       "1  10830.919922  2708700000          NYSE  \n",
       "2  14753.700195   132965800       TSX/S&P  \n",
       "3   4726.810059  1435150000        NASDAQ  \n",
       "4   2058.199951  2708700000           S&P  "
      ]
     },
     "execution_count": 152,
     "metadata": {},
     "output_type": "execute_result"
    }
   ],
   "source": [
    "stockdf = pd.read_csv('Stock_Data.csv')\n",
    "stockdf.head()"
   ]
  },
  {
   "cell_type": "code",
   "execution_count": null,
   "metadata": {},
   "outputs": [],
   "source": [
    "df = pd.concat([stockdf, newsdf], axis = 0)\n",
    "df.head()"
   ]
  },
  {
   "cell_type": "code",
   "execution_count": null,
   "metadata": {},
   "outputs": [],
   "source": [
    "df.sort_values('date', inplace = true)"
   ]
  },
  {
   "cell_type": "code",
   "execution_count": null,
   "metadata": {},
   "outputs": [],
   "source": [
    "df.head()"
   ]
  },
  {
   "cell_type": "markdown",
   "metadata": {},
   "source": [
    "### Make Naive Bayes Classifier"
   ]
  },
  {
   "cell_type": "code",
   "execution_count": null,
   "metadata": {},
   "outputs": [],
   "source": [
    "cv = CountVectorizer(max_features = 1500)\n",
    "X = cv.fit_transform(corpus_content).toarray()\n",
    "y = newsdf.loc['sent'].values"
   ]
  },
  {
   "cell_type": "code",
   "execution_count": null,
   "metadata": {},
   "outputs": [],
   "source": [
    "X_train, X_test, y_train, y_test = train_test_split(X, y, test_size = 0.2, random_state = 0)"
   ]
  },
  {
   "cell_type": "code",
   "execution_count": null,
   "metadata": {},
   "outputs": [],
   "source": [
    "classifier = GaussianNB()\n",
    "classifier.fit(X_train, y_train)\n",
    "y_pred = classifier.predict(X_test)\n",
    "cm = confusion_matrix(y_test, y_pred)"
   ]
  },
  {
   "cell_type": "code",
   "execution_count": null,
   "metadata": {},
   "outputs": [],
   "source": [
    "cv2 = CountVectorizer(max_features = 1500)\n",
    "X2 = cv2.fit_transform(corpus_content).toarray()\n",
    "my = X2[-1].reshape(1, -1)\n",
    "result = classifier.predict(my)\n",
    "if result <= 1 and > 0.01 :\n",
    "    answer = 'Positive'\n",
    "elif result < 0.01 and >-0.01:\n",
    "    answer = 'Neutral'\n",
    "elif result < -0.01 and >= -1:\n",
    "    answer = 'Negative'\n",
    "else:\n",
    "    answer = 'Error'\n",
    "print(answer)"
   ]
  },
  {
   "cell_type": "code",
   "execution_count": null,
   "metadata": {},
   "outputs": [],
   "source": []
  }
 ],
 "metadata": {
  "kernelspec": {
   "display_name": "Python 3",
   "language": "python",
   "name": "python3"
  },
  "language_info": {
   "codemirror_mode": {
    "name": "ipython",
    "version": 3
   },
   "file_extension": ".py",
   "mimetype": "text/x-python",
   "name": "python",
   "nbconvert_exporter": "python",
   "pygments_lexer": "ipython3",
   "version": "3.7.6"
  }
 },
 "nbformat": 4,
 "nbformat_minor": 4
}
