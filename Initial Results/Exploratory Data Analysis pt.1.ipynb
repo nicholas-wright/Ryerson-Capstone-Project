{
 "cells": [
  {
   "cell_type": "markdown",
   "metadata": {},
   "source": [
    "### Stock Market Performance and Public Sentiment\n",
    "\n",
    "##### CKME 136 Capstone Project"
   ]
  },
  {
   "cell_type": "code",
   "execution_count": 19,
   "metadata": {},
   "outputs": [],
   "source": [
    "import pandas as pd\n",
    "import os as os\n",
    "import seaborn as sns"
   ]
  },
  {
   "cell_type": "markdown",
   "metadata": {},
   "source": [
    "### Import files "
   ]
  },
  {
   "cell_type": "code",
   "execution_count": 3,
   "metadata": {},
   "outputs": [],
   "source": [
    "os.chdir('C:\\\\Users\\\\wrigh\\\\Downloads')"
   ]
  },
  {
   "cell_type": "code",
   "execution_count": 49,
   "metadata": {},
   "outputs": [],
   "source": [
    "newsdf = pd.read_csv('news_headlines.csv')\n",
    "stockdf = pd.read_csv('Stock_Data.csv')"
   ]
  },
  {
   "cell_type": "code",
   "execution_count": 5,
   "metadata": {},
   "outputs": [
    {
     "data": {
      "text/html": [
       "<div>\n",
       "<style scoped>\n",
       "    .dataframe tbody tr th:only-of-type {\n",
       "        vertical-align: middle;\n",
       "    }\n",
       "\n",
       "    .dataframe tbody tr th {\n",
       "        vertical-align: top;\n",
       "    }\n",
       "\n",
       "    .dataframe thead th {\n",
       "        text-align: right;\n",
       "    }\n",
       "</style>\n",
       "<table border=\"1\" class=\"dataframe\">\n",
       "  <thead>\n",
       "    <tr style=\"text-align: right;\">\n",
       "      <th></th>\n",
       "      <th>title</th>\n",
       "      <th>publication</th>\n",
       "      <th>author</th>\n",
       "      <th>date</th>\n",
       "      <th>year</th>\n",
       "      <th>month</th>\n",
       "      <th>content</th>\n",
       "    </tr>\n",
       "  </thead>\n",
       "  <tbody>\n",
       "    <tr>\n",
       "      <th>0</th>\n",
       "      <td>How Nirvana’s ’Smells Like Teen Spirit’ Became...</td>\n",
       "      <td>NPR</td>\n",
       "      <td>Guy Raz</td>\n",
       "      <td>2000-05-15</td>\n",
       "      <td>2000.0</td>\n",
       "      <td>5.0</td>\n",
       "      <td>In the early 1990s, Seattle stood at the cente...</td>\n",
       "    </tr>\n",
       "    <tr>\n",
       "      <th>1</th>\n",
       "      <td>David Bowie On The Ziggy Stardust Years: ’We W...</td>\n",
       "      <td>NPR</td>\n",
       "      <td>NPR Staff</td>\n",
       "      <td>2003-09-19</td>\n",
       "      <td>2003.0</td>\n",
       "      <td>9.0</td>\n",
       "      <td>It’s been more than 40 years since David Bowie...</td>\n",
       "    </tr>\n",
       "    <tr>\n",
       "      <th>2</th>\n",
       "      <td>Liberals’N’Lawsuits</td>\n",
       "      <td>National Review</td>\n",
       "      <td>Neil Gorsuch</td>\n",
       "      <td>2005-02-07</td>\n",
       "      <td>2005.0</td>\n",
       "      <td>2.0</td>\n",
       "      <td>Editor’s Note: This article, originally publis...</td>\n",
       "    </tr>\n",
       "    <tr>\n",
       "      <th>3</th>\n",
       "      <td>Always Go To The Funeral</td>\n",
       "      <td>NPR</td>\n",
       "      <td>Deirdre Sullivan</td>\n",
       "      <td>2005-08-08</td>\n",
       "      <td>2005.0</td>\n",
       "      <td>8.0</td>\n",
       "      <td>I believe in always going to the funeral. My f...</td>\n",
       "    </tr>\n",
       "    <tr>\n",
       "      <th>4</th>\n",
       "      <td>A Timeline Of Radovan Karadzic</td>\n",
       "      <td>NPR</td>\n",
       "      <td>Corey Flintoff</td>\n",
       "      <td>2008-07-22</td>\n",
       "      <td>2008.0</td>\n",
       "      <td>7.0</td>\n",
       "      <td>Former Bosnian Serb leader Radovan Karadzic wa...</td>\n",
       "    </tr>\n",
       "  </tbody>\n",
       "</table>\n",
       "</div>"
      ],
      "text/plain": [
       "                                               title      publication  \\\n",
       "0  How Nirvana’s ’Smells Like Teen Spirit’ Became...              NPR   \n",
       "1  David Bowie On The Ziggy Stardust Years: ’We W...              NPR   \n",
       "2                                Liberals’N’Lawsuits  National Review   \n",
       "3                           Always Go To The Funeral              NPR   \n",
       "4                     A Timeline Of Radovan Karadzic              NPR   \n",
       "\n",
       "             author        date    year  month  \\\n",
       "0           Guy Raz  2000-05-15  2000.0    5.0   \n",
       "1         NPR Staff  2003-09-19  2003.0    9.0   \n",
       "2      Neil Gorsuch  2005-02-07  2005.0    2.0   \n",
       "3  Deirdre Sullivan  2005-08-08  2005.0    8.0   \n",
       "4    Corey Flintoff  2008-07-22  2008.0    7.0   \n",
       "\n",
       "                                             content  \n",
       "0  In the early 1990s, Seattle stood at the cente...  \n",
       "1  It’s been more than 40 years since David Bowie...  \n",
       "2  Editor’s Note: This article, originally publis...  \n",
       "3  I believe in always going to the funeral. My f...  \n",
       "4  Former Bosnian Serb leader Radovan Karadzic wa...  "
      ]
     },
     "execution_count": 5,
     "metadata": {},
     "output_type": "execute_result"
    }
   ],
   "source": [
    "newsdf.head()"
   ]
  },
  {
   "cell_type": "code",
   "execution_count": 6,
   "metadata": {},
   "outputs": [
    {
     "data": {
      "text/html": [
       "<div>\n",
       "<style scoped>\n",
       "    .dataframe tbody tr th:only-of-type {\n",
       "        vertical-align: middle;\n",
       "    }\n",
       "\n",
       "    .dataframe tbody tr th {\n",
       "        vertical-align: top;\n",
       "    }\n",
       "\n",
       "    .dataframe thead th {\n",
       "        text-align: right;\n",
       "    }\n",
       "</style>\n",
       "<table border=\"1\" class=\"dataframe\">\n",
       "  <thead>\n",
       "    <tr style=\"text-align: right;\">\n",
       "      <th></th>\n",
       "      <th>Date</th>\n",
       "      <th>Open</th>\n",
       "      <th>High</th>\n",
       "      <th>Low</th>\n",
       "      <th>Close</th>\n",
       "      <th>Adj Close</th>\n",
       "      <th>Volume</th>\n",
       "      <th>Exchange_Name</th>\n",
       "    </tr>\n",
       "  </thead>\n",
       "  <tbody>\n",
       "    <tr>\n",
       "      <th>0</th>\n",
       "      <td>2015-01-02</td>\n",
       "      <td>17823.070313</td>\n",
       "      <td>17951.779297</td>\n",
       "      <td>17731.300781</td>\n",
       "      <td>17832.990234</td>\n",
       "      <td>17832.990234</td>\n",
       "      <td>76270000</td>\n",
       "      <td>Dow Jones</td>\n",
       "    </tr>\n",
       "    <tr>\n",
       "      <th>1</th>\n",
       "      <td>2015-01-02</td>\n",
       "      <td>10859.799805</td>\n",
       "      <td>10889.250000</td>\n",
       "      <td>10770.509766</td>\n",
       "      <td>10830.919922</td>\n",
       "      <td>10830.919922</td>\n",
       "      <td>2708700000</td>\n",
       "      <td>NYSE</td>\n",
       "    </tr>\n",
       "    <tr>\n",
       "      <th>2</th>\n",
       "      <td>2015-01-02</td>\n",
       "      <td>14637.299805</td>\n",
       "      <td>14756.299805</td>\n",
       "      <td>14631.400391</td>\n",
       "      <td>14753.700195</td>\n",
       "      <td>14753.700195</td>\n",
       "      <td>132965800</td>\n",
       "      <td>TSX/S&amp;P</td>\n",
       "    </tr>\n",
       "    <tr>\n",
       "      <th>3</th>\n",
       "      <td>2015-01-02</td>\n",
       "      <td>4760.240234</td>\n",
       "      <td>4777.009766</td>\n",
       "      <td>4698.109863</td>\n",
       "      <td>4726.810059</td>\n",
       "      <td>4726.810059</td>\n",
       "      <td>1435150000</td>\n",
       "      <td>NASDAQ</td>\n",
       "    </tr>\n",
       "    <tr>\n",
       "      <th>4</th>\n",
       "      <td>2015-01-02</td>\n",
       "      <td>2058.899902</td>\n",
       "      <td>2072.360107</td>\n",
       "      <td>2046.040039</td>\n",
       "      <td>2058.199951</td>\n",
       "      <td>2058.199951</td>\n",
       "      <td>2708700000</td>\n",
       "      <td>S&amp;P</td>\n",
       "    </tr>\n",
       "  </tbody>\n",
       "</table>\n",
       "</div>"
      ],
      "text/plain": [
       "         Date          Open          High           Low         Close  \\\n",
       "0  2015-01-02  17823.070313  17951.779297  17731.300781  17832.990234   \n",
       "1  2015-01-02  10859.799805  10889.250000  10770.509766  10830.919922   \n",
       "2  2015-01-02  14637.299805  14756.299805  14631.400391  14753.700195   \n",
       "3  2015-01-02   4760.240234   4777.009766   4698.109863   4726.810059   \n",
       "4  2015-01-02   2058.899902   2072.360107   2046.040039   2058.199951   \n",
       "\n",
       "      Adj Close      Volume Exchange_Name  \n",
       "0  17832.990234    76270000     Dow Jones  \n",
       "1  10830.919922  2708700000          NYSE  \n",
       "2  14753.700195   132965800       TSX/S&P  \n",
       "3   4726.810059  1435150000        NASDAQ  \n",
       "4   2058.199951  2708700000           S&P  "
      ]
     },
     "execution_count": 6,
     "metadata": {},
     "output_type": "execute_result"
    }
   ],
   "source": [
    "stockdf.head()"
   ]
  },
  {
   "cell_type": "markdown",
   "metadata": {},
   "source": [
    "### Remove all Years except 2015, 2016, 2017 from News Headlines Dataframe."
   ]
  },
  {
   "cell_type": "code",
   "execution_count": 10,
   "metadata": {},
   "outputs": [
    {
     "data": {
      "text/html": [
       "<div>\n",
       "<style scoped>\n",
       "    .dataframe tbody tr th:only-of-type {\n",
       "        vertical-align: middle;\n",
       "    }\n",
       "\n",
       "    .dataframe tbody tr th {\n",
       "        vertical-align: top;\n",
       "    }\n",
       "\n",
       "    .dataframe thead th {\n",
       "        text-align: right;\n",
       "    }\n",
       "</style>\n",
       "<table border=\"1\" class=\"dataframe\">\n",
       "  <thead>\n",
       "    <tr style=\"text-align: right;\">\n",
       "      <th></th>\n",
       "      <th>title</th>\n",
       "      <th>publication</th>\n",
       "      <th>author</th>\n",
       "      <th>date</th>\n",
       "      <th>year</th>\n",
       "      <th>month</th>\n",
       "      <th>content</th>\n",
       "    </tr>\n",
       "  </thead>\n",
       "  <tbody>\n",
       "    <tr>\n",
       "      <th>106</th>\n",
       "      <td>Hillary Clinton’s point of no return</td>\n",
       "      <td>CNN</td>\n",
       "      <td>Dan Merica</td>\n",
       "      <td>2015-01-01</td>\n",
       "      <td>2015.0</td>\n",
       "      <td>1.0</td>\n",
       "      <td>Washington (CNN) As Democrats close to Hillary...</td>\n",
       "    </tr>\n",
       "    <tr>\n",
       "      <th>107</th>\n",
       "      <td>Taylor Swift’s year-end gift video brings all ...</td>\n",
       "      <td>CNN</td>\n",
       "      <td>Lisa Respers France</td>\n",
       "      <td>2015-01-01</td>\n",
       "      <td>2015.0</td>\n",
       "      <td>1.0</td>\n",
       "      <td>(CNN) Way to make us weep, Taylor Swift. As i...</td>\n",
       "    </tr>\n",
       "    <tr>\n",
       "      <th>108</th>\n",
       "      <td>When is your tweet a threat? (Opinion)</td>\n",
       "      <td>CNN</td>\n",
       "      <td>Danny Cevallos</td>\n",
       "      <td>2015-01-02</td>\n",
       "      <td>2015.0</td>\n",
       "      <td>1.0</td>\n",
       "      <td>(CNN) The New York Police Department faced a ...</td>\n",
       "    </tr>\n",
       "    <tr>\n",
       "      <th>109</th>\n",
       "      <td>Bono says he’s worried he may never play guita...</td>\n",
       "      <td>CNN</td>\n",
       "      <td>Lisa Respers France</td>\n",
       "      <td>2015-01-02</td>\n",
       "      <td>2015.0</td>\n",
       "      <td>1.0</td>\n",
       "      <td>(CNN) Bono has shared with fans that recovery...</td>\n",
       "    </tr>\n",
       "    <tr>\n",
       "      <th>110</th>\n",
       "      <td>Donna Douglas, ’Beverly Hillbillies’ Elly May,...</td>\n",
       "      <td>CNN</td>\n",
       "      <td>Todd Leopold</td>\n",
       "      <td>2015-01-02</td>\n",
       "      <td>2015.0</td>\n",
       "      <td>1.0</td>\n",
       "      <td>(CNN) Donna Douglas, who played voluptuous to...</td>\n",
       "    </tr>\n",
       "  </tbody>\n",
       "</table>\n",
       "</div>"
      ],
      "text/plain": [
       "                                                 title publication  \\\n",
       "106               Hillary Clinton’s point of no return         CNN   \n",
       "107  Taylor Swift’s year-end gift video brings all ...         CNN   \n",
       "108             When is your tweet a threat? (Opinion)         CNN   \n",
       "109  Bono says he’s worried he may never play guita...         CNN   \n",
       "110  Donna Douglas, ’Beverly Hillbillies’ Elly May,...         CNN   \n",
       "\n",
       "                  author        date    year  month  \\\n",
       "106           Dan Merica  2015-01-01  2015.0    1.0   \n",
       "107  Lisa Respers France  2015-01-01  2015.0    1.0   \n",
       "108       Danny Cevallos  2015-01-02  2015.0    1.0   \n",
       "109  Lisa Respers France  2015-01-02  2015.0    1.0   \n",
       "110         Todd Leopold  2015-01-02  2015.0    1.0   \n",
       "\n",
       "                                               content  \n",
       "106  Washington (CNN) As Democrats close to Hillary...  \n",
       "107   (CNN) Way to make us weep, Taylor Swift. As i...  \n",
       "108   (CNN) The New York Police Department faced a ...  \n",
       "109   (CNN) Bono has shared with fans that recovery...  \n",
       "110   (CNN) Donna Douglas, who played voluptuous to...  "
      ]
     },
     "execution_count": 10,
     "metadata": {},
     "output_type": "execute_result"
    }
   ],
   "source": [
    "subsetnewsdf = newsdf[newsdf['year'].isin(['2015','2016','2017'])]\n",
    "subsetnewsdf.head()"
   ]
  },
  {
   "cell_type": "code",
   "execution_count": 95,
   "metadata": {
    "scrolled": true
   },
   "outputs": [
    {
     "data": {
      "text/html": [
       "<div>\n",
       "<style scoped>\n",
       "    .dataframe tbody tr th:only-of-type {\n",
       "        vertical-align: middle;\n",
       "    }\n",
       "\n",
       "    .dataframe tbody tr th {\n",
       "        vertical-align: top;\n",
       "    }\n",
       "\n",
       "    .dataframe thead th {\n",
       "        text-align: right;\n",
       "    }\n",
       "</style>\n",
       "<table border=\"1\" class=\"dataframe\">\n",
       "  <thead>\n",
       "    <tr style=\"text-align: right;\">\n",
       "      <th></th>\n",
       "      <th>title</th>\n",
       "      <th>publication</th>\n",
       "      <th>author</th>\n",
       "      <th>date</th>\n",
       "      <th>year</th>\n",
       "      <th>month</th>\n",
       "      <th>content</th>\n",
       "    </tr>\n",
       "  </thead>\n",
       "  <tbody>\n",
       "    <tr>\n",
       "      <th>106</th>\n",
       "      <td>Hillary Clinton’s point of no return</td>\n",
       "      <td>CNN</td>\n",
       "      <td>Dan Merica</td>\n",
       "      <td>2015-01-01</td>\n",
       "      <td>2015.0</td>\n",
       "      <td>1.0</td>\n",
       "      <td>Washington (CNN) As Democrats close to Hillary...</td>\n",
       "    </tr>\n",
       "    <tr>\n",
       "      <th>107</th>\n",
       "      <td>Taylor Swift’s year-end gift video brings all ...</td>\n",
       "      <td>CNN</td>\n",
       "      <td>Lisa Respers France</td>\n",
       "      <td>2015-01-01</td>\n",
       "      <td>2015.0</td>\n",
       "      <td>1.0</td>\n",
       "      <td>(CNN) Way to make us weep, Taylor Swift. As i...</td>\n",
       "    </tr>\n",
       "    <tr>\n",
       "      <th>108</th>\n",
       "      <td>When is your tweet a threat? (Opinion)</td>\n",
       "      <td>CNN</td>\n",
       "      <td>Danny Cevallos</td>\n",
       "      <td>2015-01-02</td>\n",
       "      <td>2015.0</td>\n",
       "      <td>1.0</td>\n",
       "      <td>(CNN) The New York Police Department faced a ...</td>\n",
       "    </tr>\n",
       "    <tr>\n",
       "      <th>109</th>\n",
       "      <td>Bono says he’s worried he may never play guita...</td>\n",
       "      <td>CNN</td>\n",
       "      <td>Lisa Respers France</td>\n",
       "      <td>2015-01-02</td>\n",
       "      <td>2015.0</td>\n",
       "      <td>1.0</td>\n",
       "      <td>(CNN) Bono has shared with fans that recovery...</td>\n",
       "    </tr>\n",
       "    <tr>\n",
       "      <th>110</th>\n",
       "      <td>Donna Douglas, ’Beverly Hillbillies’ Elly May,...</td>\n",
       "      <td>CNN</td>\n",
       "      <td>Todd Leopold</td>\n",
       "      <td>2015-01-02</td>\n",
       "      <td>2015.0</td>\n",
       "      <td>1.0</td>\n",
       "      <td>(CNN) Donna Douglas, who played voluptuous to...</td>\n",
       "    </tr>\n",
       "  </tbody>\n",
       "</table>\n",
       "</div>"
      ],
      "text/plain": [
       "                                                 title publication  \\\n",
       "106               Hillary Clinton’s point of no return         CNN   \n",
       "107  Taylor Swift’s year-end gift video brings all ...         CNN   \n",
       "108             When is your tweet a threat? (Opinion)         CNN   \n",
       "109  Bono says he’s worried he may never play guita...         CNN   \n",
       "110  Donna Douglas, ’Beverly Hillbillies’ Elly May,...         CNN   \n",
       "\n",
       "                  author        date    year  month  \\\n",
       "106           Dan Merica  2015-01-01  2015.0    1.0   \n",
       "107  Lisa Respers France  2015-01-01  2015.0    1.0   \n",
       "108       Danny Cevallos  2015-01-02  2015.0    1.0   \n",
       "109  Lisa Respers France  2015-01-02  2015.0    1.0   \n",
       "110         Todd Leopold  2015-01-02  2015.0    1.0   \n",
       "\n",
       "                                               content  \n",
       "106  Washington (CNN) As Democrats close to Hillary...  \n",
       "107   (CNN) Way to make us weep, Taylor Swift. As i...  \n",
       "108   (CNN) The New York Police Department faced a ...  \n",
       "109   (CNN) Bono has shared with fans that recovery...  \n",
       "110   (CNN) Donna Douglas, who played voluptuous to...  "
      ]
     },
     "execution_count": 95,
     "metadata": {},
     "output_type": "execute_result"
    }
   ],
   "source": [
    "newsdf = subsetnewsdf\n",
    "newsdf = newsdf.sort_values('date')\n",
    "newsdf.head()"
   ]
  },
  {
   "cell_type": "code",
   "execution_count": 13,
   "metadata": {},
   "outputs": [],
   "source": [
    "newsdf.to_csv('News_Headlines_Clean.csv', index = False)\n",
    "newsdf = pd.read_csv('News_Headlines_Clean.csv')"
   ]
  },
  {
   "cell_type": "markdown",
   "metadata": {},
   "source": [
    "### Explore datasets"
   ]
  },
  {
   "cell_type": "code",
   "execution_count": 7,
   "metadata": {},
   "outputs": [
    {
     "data": {
      "text/plain": [
       "2016.0    74697\n",
       "2017.0    47465\n",
       "2015.0     2422\n",
       "2014.0       63\n",
       "2013.0       18\n",
       "2012.0        8\n",
       "2011.0        5\n",
       "2010.0        5\n",
       "2008.0        2\n",
       "2005.0        2\n",
       "2009.0        1\n",
       "2003.0        1\n",
       "2000.0        1\n",
       "Name: year, dtype: int64"
      ]
     },
     "execution_count": 7,
     "metadata": {},
     "output_type": "execute_result"
    }
   ],
   "source": [
    "byyear = newsdf.year.value_counts()\n",
    "byyear"
   ]
  },
  {
   "cell_type": "code",
   "execution_count": 8,
   "metadata": {},
   "outputs": [
    {
     "data": {
      "text/plain": [
       "3.0     14818\n",
       "4.0     14367\n",
       "1.0     14345\n",
       "2.0     13453\n",
       "5.0     12353\n",
       "6.0     12272\n",
       "12.0     7620\n",
       "11.0     7361\n",
       "9.0      7112\n",
       "10.0     7095\n",
       "8.0      7013\n",
       "7.0      6881\n",
       "Name: month, dtype: int64"
      ]
     },
     "execution_count": 8,
     "metadata": {},
     "output_type": "execute_result"
    }
   ],
   "source": [
    "bymonth = newsdf.month.value_counts()\n",
    "bymonth"
   ]
  },
  {
   "cell_type": "code",
   "execution_count": 9,
   "metadata": {
    "scrolled": true
   },
   "outputs": [
    {
     "data": {
      "text/plain": [
       "S&P          755\n",
       "Dow Jones    755\n",
       "NASDAQ       755\n",
       "NYSE         755\n",
       "TSX/S&P      752\n",
       "Name: Exchange_Name, dtype: int64"
      ]
     },
     "execution_count": 9,
     "metadata": {},
     "output_type": "execute_result"
    }
   ],
   "source": [
    "stockdf.Exchange_Name.value_counts()"
   ]
  },
  {
   "cell_type": "code",
   "execution_count": 94,
   "metadata": {},
   "outputs": [
    {
     "data": {
      "text/plain": [
       "Breitbart           23777\n",
       "New York Post       17480\n",
       "NPR                 11601\n",
       "Washington Post     11073\n",
       "Reuters             10705\n",
       "New York Times       7760\n",
       "Guardian             7235\n",
       "CNN                  7003\n",
       "National Review      6197\n",
       "Atlantic             6158\n",
       "Business Insider     4927\n",
       "Vox                  4925\n",
       "Buzzfeed News        4629\n",
       "Fox News             1113\n",
       "Name: publication, dtype: int64"
      ]
     },
     "execution_count": 94,
     "metadata": {},
     "output_type": "execute_result"
    }
   ],
   "source": [
    "pubcount = newsdf.publication.value_counts()\n",
    "pubcount"
   ]
  },
  {
   "cell_type": "markdown",
   "metadata": {},
   "source": [
    "### Graphic Representation of Data"
   ]
  },
  {
   "cell_type": "code",
   "execution_count": 35,
   "metadata": {},
   "outputs": [
    {
     "data": {
      "text/plain": [
       "<matplotlib.axes._subplots.AxesSubplot at 0x19c6537c988>"
      ]
     },
     "execution_count": 35,
     "metadata": {},
     "output_type": "execute_result"
    },
    {
     "data": {
      "image/png": "[encoded data removed]",
      "text/plain": [
       "<Figure size 432x288 with 1 Axes>"
      ]
     },
     "metadata": {
      "needs_background": "light"
     },
     "output_type": "display_data"
    }
   ],
   "source": [
    "# Number of articles by each publication.\n",
    "pubcount.plot.bar()"
   ]
  },
  {
   "cell_type": "code",
   "execution_count": 68,
   "metadata": {},
   "outputs": [
    {
     "data": {
      "text/plain": [
       "<matplotlib.axes._subplots.AxesSubplot at 0x19d0fcf7908>"
      ]
     },
     "execution_count": 68,
     "metadata": {},
     "output_type": "execute_result"
    },
    {
     "data": {
      "image/png": "[encoded data removed]",
      "text/plain": [
       "<Figure size 432x288 with 1 Axes>"
      ]
     },
     "metadata": {
      "needs_background": "light"
     },
     "output_type": "display_data"
    }
   ],
   "source": [
    "# Length of articles\n",
    "articlelen = newsdf['content'].str.len()\n",
    "sns.distplot(articlelen, bins = 150)"
   ]
  },
  {
   "cell_type": "code",
   "execution_count": 70,
   "metadata": {},
   "outputs": [
    {
     "data": {
      "text/plain": [
       "67362     164658\n",
       "67706     162104\n",
       "69483     152708\n",
       "113596    162120\n",
       "Name: content, dtype: int64"
      ]
     },
     "execution_count": 70,
     "metadata": {},
     "output_type": "execute_result"
    }
   ],
   "source": [
    "articlelen[articlelen > 250000]"
   ]
  },
  {
   "cell_type": "code",
   "execution_count": 74,
   "metadata": {},
   "outputs": [
    {
     "data": {
      "text/plain": [
       "title          Obama warned Trump against hiring Flynn as nat...\n",
       "publication                                      Washington Post\n",
       "author                                             Philip Rucker\n",
       "date                                                  2017-05-08\n",
       "year                                                        2017\n",
       "month                                                          5\n",
       "content                  President Barack Obama personally wa...\n",
       "Name: 113597, dtype: object"
      ]
     },
     "execution_count": 74,
     "metadata": {},
     "output_type": "execute_result"
    }
   ],
   "source": [
    "newsdf.iloc[99536]"
   ]
  },
  {
   "cell_type": "code",
   "execution_count": 67,
   "metadata": {},
   "outputs": [],
   "source": [
    "# Drop value, it is too large, not conisdered a news article as it is a transcript from a deposition.\n",
    "newsdf = newsdf.drop(newsdf.index[99536], axis = 0)"
   ]
  },
  {
   "cell_type": "code",
   "execution_count": 93,
   "metadata": {},
   "outputs": [
    {
     "name": "stdout",
     "output_type": "stream",
     "text": [
      "Publication by average length of article\n"
     ]
    },
    {
     "data": {
      "text/plain": [
       "<matplotlib.axes._subplots.AxesSubplot at 0x19d101efcc8>"
      ]
     },
     "execution_count": 93,
     "metadata": {},
     "output_type": "execute_result"
    },
    {
     "data": {
      "image/png": "[encoded data removed]",
      "text/plain": [
       "<Figure size 432x288 with 1 Axes>"
      ]
     },
     "metadata": {
      "needs_background": "light"
     },
     "output_type": "display_data"
    }
   ],
   "source": [
    "# Publication by Average length of Article\n",
    "newsdf['article length'] = pd.DataFrame(articlelen)\n",
    "lengthbypub = newsdf.groupby(['publication'])['article length'].mean()\n",
    "print('Publication by average length of article')\n",
    "lengthbypub.plot.bar()"
   ]
  },
  {
   "cell_type": "code",
   "execution_count": null,
   "metadata": {},
   "outputs": [],
   "source": [
    "# Move to pt.2"
   ]
  }
 ],
 "metadata": {
  "kernelspec": {
   "display_name": "Python 3",
   "language": "python",
   "name": "python3"
  },
  "language_info": {
   "codemirror_mode": {
    "name": "ipython",
    "version": 3
   },
   "file_extension": ".py",
   "mimetype": "text/x-python",
   "name": "python",
   "nbconvert_exporter": "python",
   "pygments_lexer": "ipython3",
   "version": "3.7.6"
  }
 },
 "nbformat": 4,
 "nbformat_minor": 2
}
