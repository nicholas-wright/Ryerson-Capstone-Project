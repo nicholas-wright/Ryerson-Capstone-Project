{
 "cells": [
  {
   "cell_type": "markdown",
   "metadata": {},
   "source": [
    "## Stock Market Performance and Public Sentiment\n",
    "\n",
    "#### Capstone Project - CKME 136"
   ]
  },
  {
   "cell_type": "code",
   "execution_count": 1,
   "metadata": {},
   "outputs": [],
   "source": [
    "import pandas as pd\n",
    "import os as os"
   ]
  },
  {
   "cell_type": "markdown",
   "metadata": {},
   "source": [
    "### Data Cleaning"
   ]
  },
  {
   "cell_type": "code",
   "execution_count": 2,
   "metadata": {},
   "outputs": [
    {
     "data": {
      "text/plain": [
       "'C:\\\\Users\\\\nicholas1.wright\\\\Downloads'"
      ]
     },
     "execution_count": 2,
     "metadata": {},
     "output_type": "execute_result"
    }
   ],
   "source": [
    "pwd"
   ]
  },
  {
   "cell_type": "code",
   "execution_count": 3,
   "metadata": {},
   "outputs": [],
   "source": [
    "os.chdir('C:\\\\Users\\\\nicholas1.wright\\\\Documents\\\\Capstone_Files')"
   ]
  },
  {
   "cell_type": "markdown",
   "metadata": {},
   "source": [
    "#### Merge Yahoo Finance data into one csv file"
   ]
  },
  {
   "cell_type": "code",
   "execution_count": 4,
   "metadata": {},
   "outputs": [],
   "source": [
    "df1 = pd.read_csv('Dow_Jones.csv')\n",
    "df2 = pd.read_csv('NASDAQ.csv')\n",
    "df3 = pd.read_csv('NYSE.csv')\n",
    "df4 = pd.read_csv('S_P.csv')\n",
    "df5 = pd.read_csv('TSX_S_P.csv')"
   ]
  },
  {
   "cell_type": "markdown",
   "metadata": {},
   "source": [
    "#### Add in Exchange Name to dataframes"
   ]
  },
  {
   "cell_type": "code",
   "execution_count": 5,
   "metadata": {},
   "outputs": [],
   "source": [
    "df1['Exchange_Name'] = 'Dow Jones'\n",
    "df2['Exchange_Name'] = 'NASDAQ'\n",
    "df3['Exchange_Name'] = 'NYSE'\n",
    "df4['Exchange_Name'] = 'S&P'\n",
    "df5['Exchange_Name'] = 'TSX/S&P'"
   ]
  },
  {
   "cell_type": "code",
   "execution_count": 6,
   "metadata": {
    "scrolled": true
   },
   "outputs": [
    {
     "data": {
      "text/html": [
       "<div>\n",
       "<style scoped>\n",
       "    .dataframe tbody tr th:only-of-type {\n",
       "        vertical-align: middle;\n",
       "    }\n",
       "\n",
       "    .dataframe tbody tr th {\n",
       "        vertical-align: top;\n",
       "    }\n",
       "\n",
       "    .dataframe thead th {\n",
       "        text-align: right;\n",
       "    }\n",
       "</style>\n",
       "<table border=\"1\" class=\"dataframe\">\n",
       "  <thead>\n",
       "    <tr style=\"text-align: right;\">\n",
       "      <th></th>\n",
       "      <th>Date</th>\n",
       "      <th>Open</th>\n",
       "      <th>High</th>\n",
       "      <th>Low</th>\n",
       "      <th>Close</th>\n",
       "      <th>Adj Close</th>\n",
       "      <th>Volume</th>\n",
       "      <th>Exchange_Name</th>\n",
       "    </tr>\n",
       "  </thead>\n",
       "  <tbody>\n",
       "    <tr>\n",
       "      <th>0</th>\n",
       "      <td>2015-01-02</td>\n",
       "      <td>14637.299805</td>\n",
       "      <td>14756.299805</td>\n",
       "      <td>14631.400391</td>\n",
       "      <td>14753.700195</td>\n",
       "      <td>14753.700195</td>\n",
       "      <td>132965800</td>\n",
       "      <td>TSX/S&amp;P</td>\n",
       "    </tr>\n",
       "    <tr>\n",
       "      <th>1</th>\n",
       "      <td>2015-01-05</td>\n",
       "      <td>14709.000000</td>\n",
       "      <td>14709.000000</td>\n",
       "      <td>14339.500000</td>\n",
       "      <td>14392.700195</td>\n",
       "      <td>14392.700195</td>\n",
       "      <td>224213600</td>\n",
       "      <td>TSX/S&amp;P</td>\n",
       "    </tr>\n",
       "    <tr>\n",
       "      <th>2</th>\n",
       "      <td>2015-01-06</td>\n",
       "      <td>14368.099609</td>\n",
       "      <td>14370.400391</td>\n",
       "      <td>14162.000000</td>\n",
       "      <td>14246.799805</td>\n",
       "      <td>14246.799805</td>\n",
       "      <td>273374500</td>\n",
       "      <td>TSX/S&amp;P</td>\n",
       "    </tr>\n",
       "    <tr>\n",
       "      <th>3</th>\n",
       "      <td>2015-01-07</td>\n",
       "      <td>14324.400391</td>\n",
       "      <td>14427.400391</td>\n",
       "      <td>14265.700195</td>\n",
       "      <td>14285.000000</td>\n",
       "      <td>14285.000000</td>\n",
       "      <td>234522600</td>\n",
       "      <td>TSX/S&amp;P</td>\n",
       "    </tr>\n",
       "    <tr>\n",
       "      <th>4</th>\n",
       "      <td>2015-01-08</td>\n",
       "      <td>14368.599609</td>\n",
       "      <td>14506.099609</td>\n",
       "      <td>14368.599609</td>\n",
       "      <td>14457.700195</td>\n",
       "      <td>14457.700195</td>\n",
       "      <td>225812700</td>\n",
       "      <td>TSX/S&amp;P</td>\n",
       "    </tr>\n",
       "  </tbody>\n",
       "</table>\n",
       "</div>"
      ],
      "text/plain": [
       "         Date          Open          High           Low         Close  \\\n",
       "0  2015-01-02  14637.299805  14756.299805  14631.400391  14753.700195   \n",
       "1  2015-01-05  14709.000000  14709.000000  14339.500000  14392.700195   \n",
       "2  2015-01-06  14368.099609  14370.400391  14162.000000  14246.799805   \n",
       "3  2015-01-07  14324.400391  14427.400391  14265.700195  14285.000000   \n",
       "4  2015-01-08  14368.599609  14506.099609  14368.599609  14457.700195   \n",
       "\n",
       "      Adj Close     Volume Exchange_Name  \n",
       "0  14753.700195  132965800       TSX/S&P  \n",
       "1  14392.700195  224213600       TSX/S&P  \n",
       "2  14246.799805  273374500       TSX/S&P  \n",
       "3  14285.000000  234522600       TSX/S&P  \n",
       "4  14457.700195  225812700       TSX/S&P  "
      ]
     },
     "execution_count": 6,
     "metadata": {},
     "output_type": "execute_result"
    }
   ],
   "source": [
    "df5.head()"
   ]
  },
  {
   "cell_type": "code",
   "execution_count": 7,
   "metadata": {},
   "outputs": [],
   "source": [
    "stockdata = pd.concat([df1, df2, df3, df4, df5], axis = 0, join = 'inner')"
   ]
  },
  {
   "cell_type": "code",
   "execution_count": 8,
   "metadata": {
    "scrolled": true
   },
   "outputs": [
    {
     "data": {
      "text/html": [
       "<div>\n",
       "<style scoped>\n",
       "    .dataframe tbody tr th:only-of-type {\n",
       "        vertical-align: middle;\n",
       "    }\n",
       "\n",
       "    .dataframe tbody tr th {\n",
       "        vertical-align: top;\n",
       "    }\n",
       "\n",
       "    .dataframe thead th {\n",
       "        text-align: right;\n",
       "    }\n",
       "</style>\n",
       "<table border=\"1\" class=\"dataframe\">\n",
       "  <thead>\n",
       "    <tr style=\"text-align: right;\">\n",
       "      <th></th>\n",
       "      <th>Date</th>\n",
       "      <th>Open</th>\n",
       "      <th>High</th>\n",
       "      <th>Low</th>\n",
       "      <th>Close</th>\n",
       "      <th>Adj Close</th>\n",
       "      <th>Volume</th>\n",
       "      <th>Exchange_Name</th>\n",
       "    </tr>\n",
       "  </thead>\n",
       "  <tbody>\n",
       "    <tr>\n",
       "      <th>0</th>\n",
       "      <td>2015-01-02</td>\n",
       "      <td>17823.070313</td>\n",
       "      <td>17951.779297</td>\n",
       "      <td>17731.300781</td>\n",
       "      <td>17832.990234</td>\n",
       "      <td>17832.990234</td>\n",
       "      <td>76270000</td>\n",
       "      <td>Dow Jones</td>\n",
       "    </tr>\n",
       "    <tr>\n",
       "      <th>1</th>\n",
       "      <td>2015-01-05</td>\n",
       "      <td>17821.300781</td>\n",
       "      <td>17821.300781</td>\n",
       "      <td>17475.929688</td>\n",
       "      <td>17501.650391</td>\n",
       "      <td>17501.650391</td>\n",
       "      <td>116160000</td>\n",
       "      <td>Dow Jones</td>\n",
       "    </tr>\n",
       "    <tr>\n",
       "      <th>2</th>\n",
       "      <td>2015-01-06</td>\n",
       "      <td>17504.179688</td>\n",
       "      <td>17581.050781</td>\n",
       "      <td>17262.369141</td>\n",
       "      <td>17371.640625</td>\n",
       "      <td>17371.640625</td>\n",
       "      <td>101870000</td>\n",
       "      <td>Dow Jones</td>\n",
       "    </tr>\n",
       "    <tr>\n",
       "      <th>3</th>\n",
       "      <td>2015-01-07</td>\n",
       "      <td>17374.779297</td>\n",
       "      <td>17597.080078</td>\n",
       "      <td>17374.779297</td>\n",
       "      <td>17584.519531</td>\n",
       "      <td>17584.519531</td>\n",
       "      <td>91030000</td>\n",
       "      <td>Dow Jones</td>\n",
       "    </tr>\n",
       "    <tr>\n",
       "      <th>4</th>\n",
       "      <td>2015-01-08</td>\n",
       "      <td>17591.970703</td>\n",
       "      <td>17916.039063</td>\n",
       "      <td>17591.970703</td>\n",
       "      <td>17907.869141</td>\n",
       "      <td>17907.869141</td>\n",
       "      <td>114890000</td>\n",
       "      <td>Dow Jones</td>\n",
       "    </tr>\n",
       "  </tbody>\n",
       "</table>\n",
       "</div>"
      ],
      "text/plain": [
       "         Date          Open          High           Low         Close  \\\n",
       "0  2015-01-02  17823.070313  17951.779297  17731.300781  17832.990234   \n",
       "1  2015-01-05  17821.300781  17821.300781  17475.929688  17501.650391   \n",
       "2  2015-01-06  17504.179688  17581.050781  17262.369141  17371.640625   \n",
       "3  2015-01-07  17374.779297  17597.080078  17374.779297  17584.519531   \n",
       "4  2015-01-08  17591.970703  17916.039063  17591.970703  17907.869141   \n",
       "\n",
       "      Adj Close     Volume Exchange_Name  \n",
       "0  17832.990234   76270000     Dow Jones  \n",
       "1  17501.650391  116160000     Dow Jones  \n",
       "2  17371.640625  101870000     Dow Jones  \n",
       "3  17584.519531   91030000     Dow Jones  \n",
       "4  17907.869141  114890000     Dow Jones  "
      ]
     },
     "execution_count": 8,
     "metadata": {},
     "output_type": "execute_result"
    }
   ],
   "source": [
    "stockdata.head()"
   ]
  },
  {
   "cell_type": "code",
   "execution_count": 9,
   "metadata": {},
   "outputs": [
    {
     "data": {
      "text/plain": [
       "array(['Dow Jones', 'NASDAQ', 'NYSE', 'S&P', 'TSX/S&P'], dtype=object)"
      ]
     },
     "execution_count": 9,
     "metadata": {},
     "output_type": "execute_result"
    }
   ],
   "source": [
    "stockdata.Exchange_Name.unique()"
   ]
  },
  {
   "cell_type": "markdown",
   "metadata": {},
   "source": [
    "#### Merge News Headline data into one csv file"
   ]
  },
  {
   "cell_type": "code",
   "execution_count": 17,
   "metadata": {},
   "outputs": [],
   "source": [
    "ndf1 = pd.read_csv('articles1.csv')\n",
    "ndf2 = pd.read_csv('articles2.csv')\n",
    "ndf3 = pd.read_csv('articles3.csv')"
   ]
  },
  {
   "cell_type": "code",
   "execution_count": 18,
   "metadata": {},
   "outputs": [],
   "source": [
    "news_headlines = pd.concat([ndf1, ndf2, ndf3], axis = 0, join = 'outer')"
   ]
  },
  {
   "cell_type": "code",
   "execution_count": 19,
   "metadata": {},
   "outputs": [
    {
     "data": {
      "text/html": [
       "<div>\n",
       "<style scoped>\n",
       "    .dataframe tbody tr th:only-of-type {\n",
       "        vertical-align: middle;\n",
       "    }\n",
       "\n",
       "    .dataframe tbody tr th {\n",
       "        vertical-align: top;\n",
       "    }\n",
       "\n",
       "    .dataframe thead th {\n",
       "        text-align: right;\n",
       "    }\n",
       "</style>\n",
       "<table border=\"1\" class=\"dataframe\">\n",
       "  <thead>\n",
       "    <tr style=\"text-align: right;\">\n",
       "      <th></th>\n",
       "      <th>Unnamed: 0</th>\n",
       "      <th>id</th>\n",
       "      <th>title</th>\n",
       "      <th>publication</th>\n",
       "      <th>author</th>\n",
       "      <th>date</th>\n",
       "      <th>year</th>\n",
       "      <th>month</th>\n",
       "      <th>url</th>\n",
       "      <th>content</th>\n",
       "    </tr>\n",
       "  </thead>\n",
       "  <tbody>\n",
       "    <tr>\n",
       "      <th>0</th>\n",
       "      <td>0</td>\n",
       "      <td>17283</td>\n",
       "      <td>House Republicans Fret About Winning Their Hea...</td>\n",
       "      <td>New York Times</td>\n",
       "      <td>Carl Hulse</td>\n",
       "      <td>2016-12-31</td>\n",
       "      <td>2016.0</td>\n",
       "      <td>12.0</td>\n",
       "      <td>NaN</td>\n",
       "      <td>WASHINGTON  —   Congressional Republicans have...</td>\n",
       "    </tr>\n",
       "    <tr>\n",
       "      <th>1</th>\n",
       "      <td>1</td>\n",
       "      <td>17284</td>\n",
       "      <td>Rift Between Officers and Residents as Killing...</td>\n",
       "      <td>New York Times</td>\n",
       "      <td>Benjamin Mueller and Al Baker</td>\n",
       "      <td>2017-06-19</td>\n",
       "      <td>2017.0</td>\n",
       "      <td>6.0</td>\n",
       "      <td>NaN</td>\n",
       "      <td>After the bullet shells get counted, the blood...</td>\n",
       "    </tr>\n",
       "    <tr>\n",
       "      <th>2</th>\n",
       "      <td>2</td>\n",
       "      <td>17285</td>\n",
       "      <td>Tyrus Wong, ‘Bambi’ Artist Thwarted by Racial ...</td>\n",
       "      <td>New York Times</td>\n",
       "      <td>Margalit Fox</td>\n",
       "      <td>2017-01-06</td>\n",
       "      <td>2017.0</td>\n",
       "      <td>1.0</td>\n",
       "      <td>NaN</td>\n",
       "      <td>When Walt Disney’s “Bambi” opened in 1942, cri...</td>\n",
       "    </tr>\n",
       "    <tr>\n",
       "      <th>3</th>\n",
       "      <td>3</td>\n",
       "      <td>17286</td>\n",
       "      <td>Among Deaths in 2016, a Heavy Toll in Pop Musi...</td>\n",
       "      <td>New York Times</td>\n",
       "      <td>William McDonald</td>\n",
       "      <td>2017-04-10</td>\n",
       "      <td>2017.0</td>\n",
       "      <td>4.0</td>\n",
       "      <td>NaN</td>\n",
       "      <td>Death may be the great equalizer, but it isn’t...</td>\n",
       "    </tr>\n",
       "    <tr>\n",
       "      <th>4</th>\n",
       "      <td>4</td>\n",
       "      <td>17287</td>\n",
       "      <td>Kim Jong-un Says North Korea Is Preparing to T...</td>\n",
       "      <td>New York Times</td>\n",
       "      <td>Choe Sang-Hun</td>\n",
       "      <td>2017-01-02</td>\n",
       "      <td>2017.0</td>\n",
       "      <td>1.0</td>\n",
       "      <td>NaN</td>\n",
       "      <td>SEOUL, South Korea  —   North Korea’s leader, ...</td>\n",
       "    </tr>\n",
       "  </tbody>\n",
       "</table>\n",
       "</div>"
      ],
      "text/plain": [
       "   Unnamed: 0     id                                              title  \\\n",
       "0           0  17283  House Republicans Fret About Winning Their Hea...   \n",
       "1           1  17284  Rift Between Officers and Residents as Killing...   \n",
       "2           2  17285  Tyrus Wong, ‘Bambi’ Artist Thwarted by Racial ...   \n",
       "3           3  17286  Among Deaths in 2016, a Heavy Toll in Pop Musi...   \n",
       "4           4  17287  Kim Jong-un Says North Korea Is Preparing to T...   \n",
       "\n",
       "      publication                         author        date    year  month  \\\n",
       "0  New York Times                     Carl Hulse  2016-12-31  2016.0   12.0   \n",
       "1  New York Times  Benjamin Mueller and Al Baker  2017-06-19  2017.0    6.0   \n",
       "2  New York Times                   Margalit Fox  2017-01-06  2017.0    1.0   \n",
       "3  New York Times               William McDonald  2017-04-10  2017.0    4.0   \n",
       "4  New York Times                  Choe Sang-Hun  2017-01-02  2017.0    1.0   \n",
       "\n",
       "   url                                            content  \n",
       "0  NaN  WASHINGTON  —   Congressional Republicans have...  \n",
       "1  NaN  After the bullet shells get counted, the blood...  \n",
       "2  NaN  When Walt Disney’s “Bambi” opened in 1942, cri...  \n",
       "3  NaN  Death may be the great equalizer, but it isn’t...  \n",
       "4  NaN  SEOUL, South Korea  —   North Korea’s leader, ...  "
      ]
     },
     "execution_count": 19,
     "metadata": {},
     "output_type": "execute_result"
    }
   ],
   "source": [
    "news_headlines.head()"
   ]
  },
  {
   "cell_type": "code",
   "execution_count": 21,
   "metadata": {},
   "outputs": [
    {
     "data": {
      "text/plain": [
       "142570"
      ]
     },
     "execution_count": 21,
     "metadata": {},
     "output_type": "execute_result"
    }
   ],
   "source": [
    "len(news_headlines.title)"
   ]
  },
  {
   "cell_type": "code",
   "execution_count": 22,
   "metadata": {},
   "outputs": [
    {
     "data": {
      "text/plain": [
       "142132"
      ]
     },
     "execution_count": 22,
     "metadata": {},
     "output_type": "execute_result"
    }
   ],
   "source": [
    "news_headlines.title.nunique()\n",
    "# Note that some duplicates exist - Dig deeper after further cleaning."
   ]
  },
  {
   "cell_type": "code",
   "execution_count": 23,
   "metadata": {},
   "outputs": [],
   "source": [
    "news_headlines.drop(['Unnamed: 0','url','id'], axis = 1, inplace = True)"
   ]
  },
  {
   "cell_type": "code",
   "execution_count": 24,
   "metadata": {},
   "outputs": [
    {
     "data": {
      "text/html": [
       "<div>\n",
       "<style scoped>\n",
       "    .dataframe tbody tr th:only-of-type {\n",
       "        vertical-align: middle;\n",
       "    }\n",
       "\n",
       "    .dataframe tbody tr th {\n",
       "        vertical-align: top;\n",
       "    }\n",
       "\n",
       "    .dataframe thead th {\n",
       "        text-align: right;\n",
       "    }\n",
       "</style>\n",
       "<table border=\"1\" class=\"dataframe\">\n",
       "  <thead>\n",
       "    <tr style=\"text-align: right;\">\n",
       "      <th></th>\n",
       "      <th>title</th>\n",
       "      <th>publication</th>\n",
       "      <th>author</th>\n",
       "      <th>date</th>\n",
       "      <th>year</th>\n",
       "      <th>month</th>\n",
       "      <th>content</th>\n",
       "    </tr>\n",
       "  </thead>\n",
       "  <tbody>\n",
       "    <tr>\n",
       "      <th>0</th>\n",
       "      <td>House Republicans Fret About Winning Their Hea...</td>\n",
       "      <td>New York Times</td>\n",
       "      <td>Carl Hulse</td>\n",
       "      <td>2016-12-31</td>\n",
       "      <td>2016.0</td>\n",
       "      <td>12.0</td>\n",
       "      <td>WASHINGTON  —   Congressional Republicans have...</td>\n",
       "    </tr>\n",
       "    <tr>\n",
       "      <th>1</th>\n",
       "      <td>Rift Between Officers and Residents as Killing...</td>\n",
       "      <td>New York Times</td>\n",
       "      <td>Benjamin Mueller and Al Baker</td>\n",
       "      <td>2017-06-19</td>\n",
       "      <td>2017.0</td>\n",
       "      <td>6.0</td>\n",
       "      <td>After the bullet shells get counted, the blood...</td>\n",
       "    </tr>\n",
       "    <tr>\n",
       "      <th>2</th>\n",
       "      <td>Tyrus Wong, ‘Bambi’ Artist Thwarted by Racial ...</td>\n",
       "      <td>New York Times</td>\n",
       "      <td>Margalit Fox</td>\n",
       "      <td>2017-01-06</td>\n",
       "      <td>2017.0</td>\n",
       "      <td>1.0</td>\n",
       "      <td>When Walt Disney’s “Bambi” opened in 1942, cri...</td>\n",
       "    </tr>\n",
       "    <tr>\n",
       "      <th>3</th>\n",
       "      <td>Among Deaths in 2016, a Heavy Toll in Pop Musi...</td>\n",
       "      <td>New York Times</td>\n",
       "      <td>William McDonald</td>\n",
       "      <td>2017-04-10</td>\n",
       "      <td>2017.0</td>\n",
       "      <td>4.0</td>\n",
       "      <td>Death may be the great equalizer, but it isn’t...</td>\n",
       "    </tr>\n",
       "    <tr>\n",
       "      <th>4</th>\n",
       "      <td>Kim Jong-un Says North Korea Is Preparing to T...</td>\n",
       "      <td>New York Times</td>\n",
       "      <td>Choe Sang-Hun</td>\n",
       "      <td>2017-01-02</td>\n",
       "      <td>2017.0</td>\n",
       "      <td>1.0</td>\n",
       "      <td>SEOUL, South Korea  —   North Korea’s leader, ...</td>\n",
       "    </tr>\n",
       "  </tbody>\n",
       "</table>\n",
       "</div>"
      ],
      "text/plain": [
       "                                               title     publication  \\\n",
       "0  House Republicans Fret About Winning Their Hea...  New York Times   \n",
       "1  Rift Between Officers and Residents as Killing...  New York Times   \n",
       "2  Tyrus Wong, ‘Bambi’ Artist Thwarted by Racial ...  New York Times   \n",
       "3  Among Deaths in 2016, a Heavy Toll in Pop Musi...  New York Times   \n",
       "4  Kim Jong-un Says North Korea Is Preparing to T...  New York Times   \n",
       "\n",
       "                          author        date    year  month  \\\n",
       "0                     Carl Hulse  2016-12-31  2016.0   12.0   \n",
       "1  Benjamin Mueller and Al Baker  2017-06-19  2017.0    6.0   \n",
       "2                   Margalit Fox  2017-01-06  2017.0    1.0   \n",
       "3               William McDonald  2017-04-10  2017.0    4.0   \n",
       "4                  Choe Sang-Hun  2017-01-02  2017.0    1.0   \n",
       "\n",
       "                                             content  \n",
       "0  WASHINGTON  —   Congressional Republicans have...  \n",
       "1  After the bullet shells get counted, the blood...  \n",
       "2  When Walt Disney’s “Bambi” opened in 1942, cri...  \n",
       "3  Death may be the great equalizer, but it isn’t...  \n",
       "4  SEOUL, South Korea  —   North Korea’s leader, ...  "
      ]
     },
     "execution_count": 24,
     "metadata": {},
     "output_type": "execute_result"
    }
   ],
   "source": [
    "news_headlines.head()"
   ]
  },
  {
   "cell_type": "markdown",
   "metadata": {},
   "source": [
    "#### Check and alter data types"
   ]
  },
  {
   "cell_type": "code",
   "execution_count": 10,
   "metadata": {},
   "outputs": [
    {
     "name": "stdout",
     "output_type": "stream",
     "text": [
      "<class 'pandas.core.frame.DataFrame'>\n",
      "Int64Index: 3772 entries, 0 to 751\n",
      "Data columns (total 8 columns):\n",
      "Date             3772 non-null object\n",
      "Open             3772 non-null float64\n",
      "High             3772 non-null float64\n",
      "Low              3772 non-null float64\n",
      "Close            3772 non-null float64\n",
      "Adj Close        3772 non-null float64\n",
      "Volume           3772 non-null int64\n",
      "Exchange_Name    3772 non-null object\n",
      "dtypes: float64(5), int64(1), object(2)\n",
      "memory usage: 265.2+ KB\n"
     ]
    }
   ],
   "source": [
    "stockdata.info()"
   ]
  },
  {
   "cell_type": "code",
   "execution_count": 25,
   "metadata": {
    "scrolled": true
   },
   "outputs": [
    {
     "name": "stdout",
     "output_type": "stream",
     "text": [
      "<class 'pandas.core.frame.DataFrame'>\n",
      "Int64Index: 142570 entries, 0 to 42570\n",
      "Data columns (total 7 columns):\n",
      "title          142568 non-null object\n",
      "publication    142570 non-null object\n",
      "author         126694 non-null object\n",
      "date           139929 non-null object\n",
      "year           139929 non-null float64\n",
      "month          139929 non-null float64\n",
      "content        142570 non-null object\n",
      "dtypes: float64(2), object(5)\n",
      "memory usage: 8.7+ MB\n"
     ]
    }
   ],
   "source": [
    "news_headlines.info()"
   ]
  },
  {
   "cell_type": "code",
   "execution_count": 26,
   "metadata": {},
   "outputs": [],
   "source": [
    "stockdata.Date = pd.to_datetime(stockdata.Date)\n",
    "news_headlines.date = pd.to_datetime(news_headlines.date)\n",
    "news_headlines.year = pd.to_numeric(news_headlines.year, downcast = 'integer')\n",
    "news_headlines.month = pd.to_numeric(news_headlines.month, downcast = 'integer')"
   ]
  },
  {
   "cell_type": "code",
   "execution_count": 13,
   "metadata": {},
   "outputs": [],
   "source": [
    "stockdata = stockdata.sort_values('Date')"
   ]
  },
  {
   "cell_type": "code",
   "execution_count": 14,
   "metadata": {},
   "outputs": [
    {
     "data": {
      "text/html": [
       "<div>\n",
       "<style scoped>\n",
       "    .dataframe tbody tr th:only-of-type {\n",
       "        vertical-align: middle;\n",
       "    }\n",
       "\n",
       "    .dataframe tbody tr th {\n",
       "        vertical-align: top;\n",
       "    }\n",
       "\n",
       "    .dataframe thead th {\n",
       "        text-align: right;\n",
       "    }\n",
       "</style>\n",
       "<table border=\"1\" class=\"dataframe\">\n",
       "  <thead>\n",
       "    <tr style=\"text-align: right;\">\n",
       "      <th></th>\n",
       "      <th>Date</th>\n",
       "      <th>Open</th>\n",
       "      <th>High</th>\n",
       "      <th>Low</th>\n",
       "      <th>Close</th>\n",
       "      <th>Adj Close</th>\n",
       "      <th>Volume</th>\n",
       "      <th>Exchange_Name</th>\n",
       "    </tr>\n",
       "  </thead>\n",
       "  <tbody>\n",
       "    <tr>\n",
       "      <th>0</th>\n",
       "      <td>2015-01-02</td>\n",
       "      <td>17823.070313</td>\n",
       "      <td>17951.779297</td>\n",
       "      <td>17731.300781</td>\n",
       "      <td>17832.990234</td>\n",
       "      <td>17832.990234</td>\n",
       "      <td>76270000</td>\n",
       "      <td>Dow Jones</td>\n",
       "    </tr>\n",
       "    <tr>\n",
       "      <th>0</th>\n",
       "      <td>2015-01-02</td>\n",
       "      <td>10859.799805</td>\n",
       "      <td>10889.250000</td>\n",
       "      <td>10770.509766</td>\n",
       "      <td>10830.919922</td>\n",
       "      <td>10830.919922</td>\n",
       "      <td>2708700000</td>\n",
       "      <td>NYSE</td>\n",
       "    </tr>\n",
       "    <tr>\n",
       "      <th>0</th>\n",
       "      <td>2015-01-02</td>\n",
       "      <td>14637.299805</td>\n",
       "      <td>14756.299805</td>\n",
       "      <td>14631.400391</td>\n",
       "      <td>14753.700195</td>\n",
       "      <td>14753.700195</td>\n",
       "      <td>132965800</td>\n",
       "      <td>TSX/S&amp;P</td>\n",
       "    </tr>\n",
       "    <tr>\n",
       "      <th>0</th>\n",
       "      <td>2015-01-02</td>\n",
       "      <td>4760.240234</td>\n",
       "      <td>4777.009766</td>\n",
       "      <td>4698.109863</td>\n",
       "      <td>4726.810059</td>\n",
       "      <td>4726.810059</td>\n",
       "      <td>1435150000</td>\n",
       "      <td>NASDAQ</td>\n",
       "    </tr>\n",
       "    <tr>\n",
       "      <th>0</th>\n",
       "      <td>2015-01-02</td>\n",
       "      <td>2058.899902</td>\n",
       "      <td>2072.360107</td>\n",
       "      <td>2046.040039</td>\n",
       "      <td>2058.199951</td>\n",
       "      <td>2058.199951</td>\n",
       "      <td>2708700000</td>\n",
       "      <td>S&amp;P</td>\n",
       "    </tr>\n",
       "  </tbody>\n",
       "</table>\n",
       "</div>"
      ],
      "text/plain": [
       "        Date          Open          High           Low         Close  \\\n",
       "0 2015-01-02  17823.070313  17951.779297  17731.300781  17832.990234   \n",
       "0 2015-01-02  10859.799805  10889.250000  10770.509766  10830.919922   \n",
       "0 2015-01-02  14637.299805  14756.299805  14631.400391  14753.700195   \n",
       "0 2015-01-02   4760.240234   4777.009766   4698.109863   4726.810059   \n",
       "0 2015-01-02   2058.899902   2072.360107   2046.040039   2058.199951   \n",
       "\n",
       "      Adj Close      Volume Exchange_Name  \n",
       "0  17832.990234    76270000     Dow Jones  \n",
       "0  10830.919922  2708700000          NYSE  \n",
       "0  14753.700195   132965800       TSX/S&P  \n",
       "0   4726.810059  1435150000        NASDAQ  \n",
       "0   2058.199951  2708700000           S&P  "
      ]
     },
     "execution_count": 14,
     "metadata": {},
     "output_type": "execute_result"
    }
   ],
   "source": [
    "stockdata.head()"
   ]
  },
  {
   "cell_type": "markdown",
   "metadata": {},
   "source": [
    "#### Read Stock Data to csv"
   ]
  },
  {
   "cell_type": "code",
   "execution_count": 15,
   "metadata": {},
   "outputs": [],
   "source": [
    "stockdata.to_csv('Stock_Data.csv', index = False)"
   ]
  },
  {
   "cell_type": "markdown",
   "metadata": {},
   "source": [
    "#### Remove Columns with no date"
   ]
  },
  {
   "cell_type": "code",
   "execution_count": 27,
   "metadata": {},
   "outputs": [],
   "source": [
    "news_headlines = news_headlines.sort_values('date', na_position='first')"
   ]
  },
  {
   "cell_type": "code",
   "execution_count": 28,
   "metadata": {},
   "outputs": [],
   "source": [
    "news_headlines.dropna(inplace = True)"
   ]
  },
  {
   "cell_type": "code",
   "execution_count": 29,
   "metadata": {},
   "outputs": [
    {
     "data": {
      "text/html": [
       "<div>\n",
       "<style scoped>\n",
       "    .dataframe tbody tr th:only-of-type {\n",
       "        vertical-align: middle;\n",
       "    }\n",
       "\n",
       "    .dataframe tbody tr th {\n",
       "        vertical-align: top;\n",
       "    }\n",
       "\n",
       "    .dataframe thead th {\n",
       "        text-align: right;\n",
       "    }\n",
       "</style>\n",
       "<table border=\"1\" class=\"dataframe\">\n",
       "  <thead>\n",
       "    <tr style=\"text-align: right;\">\n",
       "      <th></th>\n",
       "      <th>title</th>\n",
       "      <th>publication</th>\n",
       "      <th>author</th>\n",
       "      <th>date</th>\n",
       "      <th>year</th>\n",
       "      <th>month</th>\n",
       "      <th>content</th>\n",
       "    </tr>\n",
       "  </thead>\n",
       "  <tbody>\n",
       "    <tr>\n",
       "      <th>5030</th>\n",
       "      <td>How Nirvana’s ’Smells Like Teen Spirit’ Became...</td>\n",
       "      <td>NPR</td>\n",
       "      <td>Guy Raz</td>\n",
       "      <td>2000-05-15</td>\n",
       "      <td>2000.0</td>\n",
       "      <td>5.0</td>\n",
       "      <td>In the early 1990s, Seattle stood at the cente...</td>\n",
       "    </tr>\n",
       "    <tr>\n",
       "      <th>8304</th>\n",
       "      <td>David Bowie On The Ziggy Stardust Years: ’We W...</td>\n",
       "      <td>NPR</td>\n",
       "      <td>NPR Staff</td>\n",
       "      <td>2003-09-19</td>\n",
       "      <td>2003.0</td>\n",
       "      <td>9.0</td>\n",
       "      <td>It’s been more than 40 years since David Bowie...</td>\n",
       "    </tr>\n",
       "    <tr>\n",
       "      <th>21798</th>\n",
       "      <td>Liberals’N’Lawsuits</td>\n",
       "      <td>National Review</td>\n",
       "      <td>Neil Gorsuch</td>\n",
       "      <td>2005-02-07</td>\n",
       "      <td>2005.0</td>\n",
       "      <td>2.0</td>\n",
       "      <td>Editor’s Note: This article, originally publis...</td>\n",
       "    </tr>\n",
       "    <tr>\n",
       "      <th>5285</th>\n",
       "      <td>Always Go To The Funeral</td>\n",
       "      <td>NPR</td>\n",
       "      <td>Deirdre Sullivan</td>\n",
       "      <td>2005-08-08</td>\n",
       "      <td>2005.0</td>\n",
       "      <td>8.0</td>\n",
       "      <td>I believe in always going to the funeral. My f...</td>\n",
       "    </tr>\n",
       "    <tr>\n",
       "      <th>9865</th>\n",
       "      <td>A Timeline Of Radovan Karadzic</td>\n",
       "      <td>NPR</td>\n",
       "      <td>Corey Flintoff</td>\n",
       "      <td>2008-07-22</td>\n",
       "      <td>2008.0</td>\n",
       "      <td>7.0</td>\n",
       "      <td>Former Bosnian Serb leader Radovan Karadzic wa...</td>\n",
       "    </tr>\n",
       "    <tr>\n",
       "      <th>15075</th>\n",
       "      <td>The Moscone-Milk Anniversary — And Legacy</td>\n",
       "      <td>NPR</td>\n",
       "      <td>Richard Gonzales</td>\n",
       "      <td>2008-11-26</td>\n",
       "      <td>2008.0</td>\n",
       "      <td>11.0</td>\n",
       "      <td>Thirty years ago Friday, a shocking announceme...</td>\n",
       "    </tr>\n",
       "    <tr>\n",
       "      <th>11229</th>\n",
       "      <td>I Am Still The Greatest</td>\n",
       "      <td>NPR</td>\n",
       "      <td>Muhammad Ali, read by his wife, Lonnie Ali</td>\n",
       "      <td>2009-04-06</td>\n",
       "      <td>2009.0</td>\n",
       "      <td>4.0</td>\n",
       "      <td>I have always believed in myself, even as a yo...</td>\n",
       "    </tr>\n",
       "    <tr>\n",
       "      <th>13206</th>\n",
       "      <td>Lizard Starvation, Extinction Tied To Climate ...</td>\n",
       "      <td>NPR</td>\n",
       "      <td>Christopher Joyce</td>\n",
       "      <td>2010-05-13</td>\n",
       "      <td>2010.0</td>\n",
       "      <td>5.0</td>\n",
       "      <td>Scientists who study lizards say many local po...</td>\n",
       "    </tr>\n",
       "    <tr>\n",
       "      <th>2216</th>\n",
       "      <td>General David Petraeus faints during grilling ...</td>\n",
       "      <td>Guardian</td>\n",
       "      <td>Ewen MacAskill</td>\n",
       "      <td>2010-06-15</td>\n",
       "      <td>2010.0</td>\n",
       "      <td>6.0</td>\n",
       "      <td>America’s top commander, General David Petraeu...</td>\n",
       "    </tr>\n",
       "    <tr>\n",
       "      <th>9168</th>\n",
       "      <td>50 Years On, ’Mockingbird’ Still Sings America...</td>\n",
       "      <td>NPR</td>\n",
       "      <td>Lynn Neary</td>\n",
       "      <td>2010-07-07</td>\n",
       "      <td>2010.0</td>\n",
       "      <td>7.0</td>\n",
       "      <td>Fifty years ago, Harper Lee had the kind of su...</td>\n",
       "    </tr>\n",
       "    <tr>\n",
       "      <th>46092</th>\n",
       "      <td>Porpoises rescue Dick Van Dyke</td>\n",
       "      <td>Guardian</td>\n",
       "      <td>Xan Brooks</td>\n",
       "      <td>2010-11-11</td>\n",
       "      <td>2010.0</td>\n",
       "      <td>11.0</td>\n",
       "      <td>On screen, Dick Van Dyke has been rescued from...</td>\n",
       "    </tr>\n",
       "    <tr>\n",
       "      <th>11231</th>\n",
       "      <td>Float Like a Snagriff, Sting Like a Fish-Snake...</td>\n",
       "      <td>NPR</td>\n",
       "      <td>Glen Weldon</td>\n",
       "      <td>2010-11-17</td>\n",
       "      <td>2010.0</td>\n",
       "      <td>11.0</td>\n",
       "      <td>(Note: A Snagriff’s a Kryptonian flying dragon...</td>\n",
       "    </tr>\n",
       "    <tr>\n",
       "      <th>25889</th>\n",
       "      <td>Back to the Future with Peter Thiel</td>\n",
       "      <td>National Review</td>\n",
       "      <td>NR Interview</td>\n",
       "      <td>2011-01-20</td>\n",
       "      <td>2011.0</td>\n",
       "      <td>1.0</td>\n",
       "      <td>Editor’s Note: Peter Thiel will speak at the R...</td>\n",
       "    </tr>\n",
       "    <tr>\n",
       "      <th>4846</th>\n",
       "      <td>The Dark Origins Of Valentine’s Day</td>\n",
       "      <td>NPR</td>\n",
       "      <td>Arnie Seipel</td>\n",
       "      <td>2011-02-13</td>\n",
       "      <td>2011.0</td>\n",
       "      <td>2.0</td>\n",
       "      <td>Valentine’s Day is a time to celebrate romance...</td>\n",
       "    </tr>\n",
       "    <tr>\n",
       "      <th>5898</th>\n",
       "      <td>Adele</td>\n",
       "      <td>NPR</td>\n",
       "      <td>Stephen Thompson</td>\n",
       "      <td>2011-02-17</td>\n",
       "      <td>2011.0</td>\n",
       "      <td>2.0</td>\n",
       "      <td>There’s no one way to define a great voice: Ge...</td>\n",
       "    </tr>\n",
       "  </tbody>\n",
       "</table>\n",
       "</div>"
      ],
      "text/plain": [
       "                                                   title      publication  \\\n",
       "5030   How Nirvana’s ’Smells Like Teen Spirit’ Became...              NPR   \n",
       "8304   David Bowie On The Ziggy Stardust Years: ’We W...              NPR   \n",
       "21798                                Liberals’N’Lawsuits  National Review   \n",
       "5285                            Always Go To The Funeral              NPR   \n",
       "9865                      A Timeline Of Radovan Karadzic              NPR   \n",
       "15075          The Moscone-Milk Anniversary — And Legacy              NPR   \n",
       "11229                            I Am Still The Greatest              NPR   \n",
       "13206  Lizard Starvation, Extinction Tied To Climate ...              NPR   \n",
       "2216   General David Petraeus faints during grilling ...         Guardian   \n",
       "9168   50 Years On, ’Mockingbird’ Still Sings America...              NPR   \n",
       "46092                     Porpoises rescue Dick Van Dyke         Guardian   \n",
       "11231  Float Like a Snagriff, Sting Like a Fish-Snake...              NPR   \n",
       "25889                Back to the Future with Peter Thiel  National Review   \n",
       "4846                 The Dark Origins Of Valentine’s Day              NPR   \n",
       "5898                                               Adele              NPR   \n",
       "\n",
       "                                           author       date    year  month  \\\n",
       "5030                                      Guy Raz 2000-05-15  2000.0    5.0   \n",
       "8304                                    NPR Staff 2003-09-19  2003.0    9.0   \n",
       "21798                                Neil Gorsuch 2005-02-07  2005.0    2.0   \n",
       "5285                             Deirdre Sullivan 2005-08-08  2005.0    8.0   \n",
       "9865                               Corey Flintoff 2008-07-22  2008.0    7.0   \n",
       "15075                            Richard Gonzales 2008-11-26  2008.0   11.0   \n",
       "11229  Muhammad Ali, read by his wife, Lonnie Ali 2009-04-06  2009.0    4.0   \n",
       "13206                           Christopher Joyce 2010-05-13  2010.0    5.0   \n",
       "2216                               Ewen MacAskill 2010-06-15  2010.0    6.0   \n",
       "9168                                   Lynn Neary 2010-07-07  2010.0    7.0   \n",
       "46092                                  Xan Brooks 2010-11-11  2010.0   11.0   \n",
       "11231                                 Glen Weldon 2010-11-17  2010.0   11.0   \n",
       "25889                                NR Interview 2011-01-20  2011.0    1.0   \n",
       "4846                                 Arnie Seipel 2011-02-13  2011.0    2.0   \n",
       "5898                             Stephen Thompson 2011-02-17  2011.0    2.0   \n",
       "\n",
       "                                                 content  \n",
       "5030   In the early 1990s, Seattle stood at the cente...  \n",
       "8304   It’s been more than 40 years since David Bowie...  \n",
       "21798  Editor’s Note: This article, originally publis...  \n",
       "5285   I believe in always going to the funeral. My f...  \n",
       "9865   Former Bosnian Serb leader Radovan Karadzic wa...  \n",
       "15075  Thirty years ago Friday, a shocking announceme...  \n",
       "11229  I have always believed in myself, even as a yo...  \n",
       "13206  Scientists who study lizards say many local po...  \n",
       "2216   America’s top commander, General David Petraeu...  \n",
       "9168   Fifty years ago, Harper Lee had the kind of su...  \n",
       "46092  On screen, Dick Van Dyke has been rescued from...  \n",
       "11231  (Note: A Snagriff’s a Kryptonian flying dragon...  \n",
       "25889  Editor’s Note: Peter Thiel will speak at the R...  \n",
       "4846   Valentine’s Day is a time to celebrate romance...  \n",
       "5898   There’s no one way to define a great voice: Ge...  "
      ]
     },
     "execution_count": 29,
     "metadata": {},
     "output_type": "execute_result"
    }
   ],
   "source": [
    "news_headlines.head(15)"
   ]
  },
  {
   "cell_type": "code",
   "execution_count": 30,
   "metadata": {},
   "outputs": [
    {
     "data": {
      "text/plain": [
       "125010"
      ]
     },
     "execution_count": 30,
     "metadata": {},
     "output_type": "execute_result"
    }
   ],
   "source": [
    "news_headlines.title.count()"
   ]
  },
  {
   "cell_type": "code",
   "execution_count": 31,
   "metadata": {},
   "outputs": [
    {
     "name": "stdout",
     "output_type": "stream",
     "text": [
      "17122 articles have been removed because of their lack of date.\n"
     ]
    }
   ],
   "source": [
    "removal = (142132 - 125010)\n",
    "print(str(removal) + ' articles have been removed because of their lack of date.')"
   ]
  },
  {
   "cell_type": "markdown",
   "metadata": {},
   "source": [
    "#### Check and remove duplicates"
   ]
  },
  {
   "cell_type": "code",
   "execution_count": 32,
   "metadata": {},
   "outputs": [
    {
     "data": {
      "text/plain": [
       "False    124690\n",
       "True        320\n",
       "dtype: int64"
      ]
     },
     "execution_count": 32,
     "metadata": {},
     "output_type": "execute_result"
    }
   ],
   "source": [
    "duplicates = news_headlines.duplicated(subset = ['title', 'author', 'publication'], keep = 'first')\n",
    "pd.value_counts(duplicates)"
   ]
  },
  {
   "cell_type": "code",
   "execution_count": 33,
   "metadata": {},
   "outputs": [],
   "source": [
    "news_headlines = news_headlines[duplicates == False]"
   ]
  },
  {
   "cell_type": "code",
   "execution_count": 34,
   "metadata": {},
   "outputs": [
    {
     "data": {
      "text/plain": [
       "124671"
      ]
     },
     "execution_count": 34,
     "metadata": {},
     "output_type": "execute_result"
    }
   ],
   "source": [
    "news_headlines.title.nunique()"
   ]
  },
  {
   "cell_type": "markdown",
   "metadata": {},
   "source": [
    "#### Read News Dataset to csv"
   ]
  },
  {
   "cell_type": "code",
   "execution_count": 35,
   "metadata": {},
   "outputs": [],
   "source": [
    "news_headlines.to_csv('news_headlines.csv', index = False)"
   ]
  }
 ],
 "metadata": {
  "kernelspec": {
   "display_name": "Python 3",
   "language": "python",
   "name": "python3"
  },
  "language_info": {
   "codemirror_mode": {
    "name": "ipython",
    "version": 3
   },
   "file_extension": ".py",
   "mimetype": "text/x-python",
   "name": "python",
   "nbconvert_exporter": "python",
   "pygments_lexer": "ipython3",
   "version": "3.7.1"
  }
 },
 "nbformat": 4,
 "nbformat_minor": 2
}
